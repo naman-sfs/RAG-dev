{
 "cells": [
  {
   "cell_type": "markdown",
   "metadata": {},
   "source": [
    "## LangChain Config"
   ]
  },
  {
   "cell_type": "code",
   "execution_count": 1,
   "metadata": {},
   "outputs": [],
   "source": [
    "import os\n",
    "os.environ['LANGCHAIN_TRACING_V2'] = 'true'\n",
    "os.environ['LANGCHAIN_ENDPOINT'] = 'https://api.smith.langchain.com'\n",
    "os.environ[\"LANGCHAIN_PROJECT\"]=\"Foojan-MIRA\""
   ]
  },
  {
   "cell_type": "markdown",
   "metadata": {},
   "source": [
    "## MongoDB Config"
   ]
  },
  {
   "cell_type": "code",
   "execution_count": 2,
   "metadata": {},
   "outputs": [],
   "source": [
    "\n"
   ]
  },
  {
   "cell_type": "code",
   "execution_count": 7,
   "metadata": {},
   "outputs": [],
   "source": [
    "from langchain_community.embeddings.openai import OpenAIEmbeddings\n",
    "from langchain_mongodb.vectorstores import MongoDBAtlasVectorSearch\n",
    "\n",
    "vector_search = MongoDBAtlasVectorSearch.from_connection_string(\n",
    "        MONGODB_ATLAS_CLUSTER_URI,\n",
    "        f\"{DB_NAME}.{COLLECTION_NAME}\",\n",
    "        OpenAIEmbeddings(),\n",
    "        index_name= ATLAS_VECTOR_SEARCH_INDEX_NAME\n",
    "    )"
   ]
  },
  {
   "cell_type": "markdown",
   "metadata": {},
   "source": [
    "## HyDE"
   ]
  },
  {
   "cell_type": "markdown",
   "metadata": {},
   "source": [
    "### Scientific Paper Passage"
   ]
  },
  {
   "cell_type": "code",
   "execution_count": 8,
   "metadata": {},
   "outputs": [
    {
     "data": {
      "text/plain": [
       "\"Suffering is a complex and multifaceted experience that can manifest in physical, emotional, and psychological forms. In order to effectively release suffering, it is important to understand the underlying causes and mechanisms that contribute to its presence. One approach to releasing suffering is through the practice of mindfulness and meditation. By cultivating present moment awareness and non-judgmental acceptance of one's experiences, individuals can learn to observe their suffering without becoming overwhelmed by it. This can help to reduce the intensity of suffering and create space for healing and transformation.\\n\\nAnother approach to releasing suffering is through the use of cognitive-behavioral techniques. By identifying and challenging negative thought patterns and beliefs that contribute to suffering, individuals can learn to reframe their experiences in a more positive and empowering way. This can help to shift their perspective and reduce the emotional impact of their suffering.\\n\\nAdditionally, seeking support from mental health professionals, such as therapists or counselors, can be beneficial in releasing suffering. These professionals can provide guidance, validation, and tools for coping with and overcoming suffering. They can also help individuals explore the root causes of their suffering and develop strategies for addressing them.\\n\\nIn conclusion, releasing suffering is a complex and individualized process that may require a combination of approaches. By cultivating mindfulness, challenging negative thought patterns, and seeking support from mental health professionals, individuals can learn to release their suffering and move towards a place of healing and well-being.\""
      ]
     },
     "execution_count": 8,
     "metadata": {},
     "output_type": "execute_result"
    }
   ],
   "source": [
    "from langchain.prompts import ChatPromptTemplate\n",
    "\n",
    "# HyDE document genration\n",
    "template = \"\"\"Please write a scientific paper passage to answer the question\n",
    "Question: {question}\n",
    "Passage:\"\"\"\n",
    "prompt_hyde = ChatPromptTemplate.from_template(template)\n",
    "\n",
    "from langchain_core.output_parsers import StrOutputParser\n",
    "from langchain_openai import ChatOpenAI\n",
    "\n",
    "generate_docs_for_retrieval = (\n",
    "    prompt_hyde | ChatOpenAI(model=\"gpt-3.5-turbo\", temperature=0) | StrOutputParser() \n",
    ")\n",
    "\n",
    "# Run\n",
    "question = \"How to release suffering?\"\n",
    "generate_docs_for_retrieval.invoke({\"question\":question})"
   ]
  },
  {
   "cell_type": "markdown",
   "metadata": {},
   "source": [
    "### MongoDB Retrieval"
   ]
  },
  {
   "cell_type": "code",
   "execution_count": 9,
   "metadata": {},
   "outputs": [
    {
     "data": {
      "text/plain": [
       "[(Document(metadata={'_id': {'$oid': '6690ec88f3a760520e8ef9cc'}, 'source': './pdfs/ask me how do I let go of this type of suffering.pdf', 'page': 0, 'start_index': 1535}, page_content=\"that show up appr opriately to some matter. And as we think about what we're going to do \\nwith the matter either we accept it, do something, change it, our emotions and feelings will \\nchange with that. The suffering is when we get stuck in something and usually the stuckness \\nis because we're not going to take whatever it is and we'll say it shouldn't be this way and it's \\neither my fault because of my character or it's the world's fault because it just wasn't going to \\ngive it to me. And that piece of suffering is that stuckness  that we get create.  \\nThat's the one that we need to learn to let go to watch the belief system and thought process \\nthat is side by side with that and start doing reality check, opening it up, learning the skills of \\nbeing with what shows up, being with a n emotion and the feeling that shows up, seeing what \\nyou could do about it, do what you need to do and accept the rest and then there's that. That's \\nhow the suffering is alleviated.\"),\n",
       "  0.9274349808692932),\n",
       " (Document(metadata={'_id': {'$oid': '6690ec88f3a760520e8ef9ca'}, 'source': './pdfs/ask me how do I let go of this type of suffering.pdf', 'page': 0, 'start_index': 0}, page_content=\"Well in the ask me segment you have asked me how do I let go of this type of suffering. \\nAlthough there are a lot of things that happen in my life that I didn't create. I didn't create the \\npandemic, I didn't create people dying, I didn't create, you know, l oss of my job. There's a lot \\nof stuff that happen and I suffer. And so when you say you want to eradicate uh emotional \\nsuffering how is that even possible?  \\nThings happen in our life that is beyond our control. It always happens, it will always happen. \\nThere's no one on the face of the Earth that you could say that is in control and in managing \\nevery single aspect. And there's a distinct difference between natural experience of emotions, \\nfeelings that we have about things that are happening but suffering is different. Suffering is \\nwhen we add certain type of a generalized belief, a negative belief to the matter about ourself \\nor the world. That's where suffering begins. It's not like an event happens, we feel the way we\"),\n",
       "  0.9226047396659851),\n",
       " (Document(metadata={'_id': {'$oid': '6690ec88f3a760520e8ef9cb'}, 'source': './pdfs/ask me how do I let go of this type of suffering.pdf', 'page': 0, 'start_index': 803}, page_content=\"when we add certain type of a generalized belief, a negative belief to the matter about ourself \\nor the world. That's where suffering begins. It's not like an event happens, we feel the way we \\nfeel, if it's uncomfortable of course  we're going to feel all the uncomfortable feelings and \\nwe're going to do something about it or we're going to accept it.  \\nAnd the feeling comes and goes based on the patterns of things that are happening in front of \\nus. If somebody passes away the natur al feeling is to go through grief, is to be sad, is to go \\nthrough the loss and then release and let go. If we lose a job, we're going to go through the \\nfeelings of loss and maybe anxiety, maybe sadness, maybe shame. Those are all emotions \\nthat show up appr opriately to some matter. And as we think about what we're going to do \\nwith the matter either we accept it, do something, change it, our emotions and feelings will\"),\n",
       "  0.9143388271331787)]"
      ]
     },
     "execution_count": 9,
     "metadata": {},
     "output_type": "execute_result"
    }
   ],
   "source": [
    "\n",
    "retrieved_docs = vector_search.similarity_search_with_score(query=question,k=3)\n",
    "retrieved_docs"
   ]
  },
  {
   "cell_type": "markdown",
   "metadata": {},
   "source": [
    "### Generation"
   ]
  },
  {
   "cell_type": "code",
   "execution_count": 10,
   "metadata": {},
   "outputs": [
    {
     "data": {
      "text/plain": [
       "'To release suffering, you need to follow these steps:\\n\\n1. Acceptance: Acknowledge that certain things happen in life that are beyond your control, such as the pandemic, loss of a job, or people dying. Understand that these events are a natural part of life and cannot always be prevented.\\n\\n2. Change negative beliefs: Recognize when you are adding negative beliefs about yourself or the world to a situation, which can lead to suffering. Challenge these beliefs and try to replace them with more positive and realistic thoughts.\\n\\n3. Feel your emotions: Allow yourself to feel all the uncomfortable emotions that come with a difficult situation. It is normal to experience grief, sadness, anxiety, or shame in response to loss or hardship.\\n\\n4. Take action: Decide what you can do to address the situation or make changes if possible. Focus on what is within your control and take steps to improve the situation.\\n\\n5. Practice acceptance: After taking action, learn to accept the things that you cannot change. Let go of any lingering negative emotions or beliefs that are causing you to suffer.\\n\\nBy following these steps, you can start to release the suffering that comes from being stuck in negative beliefs and emotions. It is important to be patient with yourself and seek support from a therapist or counselor if needed.'"
      ]
     },
     "execution_count": 10,
     "metadata": {},
     "output_type": "execute_result"
    }
   ],
   "source": [
    "# RAG RAAG\n",
    "template = \"\"\"You are an empathetic psychotherapist, parenting counselor, life-coach and mental health expert. \n",
    "Be empathetic while answering if the question includes some bad situation. \n",
    "Answer the following question based on the context given below, explain each point in a simple language.\n",
    "Don't look for the answers from other resources. If you don't find the answer from the context, just simply answer: \n",
    "\"I don't know\" or \"I didn't understand this, could you please provide some more information on it\".\n",
    "\n",
    "Context: {context}\n",
    "\n",
    "Question: {question}\n",
    "\"\"\"\n",
    "\n",
    "prompt = ChatPromptTemplate.from_template(template)\n",
    "\n",
    "final_rag_chain = (\n",
    "    prompt\n",
    "    | ChatOpenAI(model=\"gpt-3.5-turbo\",temperature=0)\n",
    "    | StrOutputParser()\n",
    ")\n",
    "\n",
    "final_rag_chain.invoke({\"context\":retrieved_docs,\"question\":question})"
   ]
  }
 ],
 "metadata": {
  "kernelspec": {
   "display_name": "Python 3",
   "language": "python",
   "name": "python3"
  },
  "language_info": {
   "codemirror_mode": {
    "name": "ipython",
    "version": 3
   },
   "file_extension": ".py",
   "mimetype": "text/x-python",
   "name": "python",
   "nbconvert_exporter": "python",
   "pygments_lexer": "ipython3",
   "version": "3.10.0"
  }
 },
 "nbformat": 4,
 "nbformat_minor": 2
}
