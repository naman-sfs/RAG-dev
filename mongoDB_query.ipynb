{
 "cells": [
  {
   "cell_type": "markdown",
   "metadata": {},
   "source": [
    "## LangChain Config"
   ]
  },
  {
   "cell_type": "code",
   "execution_count": 4,
   "metadata": {},
   "outputs": [],
   "source": [
    "import os\n",
    "from dotenv import load_dotenv\n",
    "load_dotenv()\n",
    "\n",
    "os.environ['LANGCHAIN_TRACING_V2'] = 'true'\n",
    "os.environ['LANGCHAIN_ENDPOINT'] = 'https://api.smith.langchain.com'\n"
   ]
  },
  {
   "cell_type": "code",
   "execution_count": 21,
   "metadata": {},
   "outputs": [],
   "source": [
    "\n",
    "# os.environ[\"LANGCHAIN_PROJECT\"]= os.getenv('LANGCHAIN_PROJECT')\n",
    "os.environ[\"LANGCHAIN_PROJECT\"]= \"MIRA-local-dev\"\n",
    "os.environ[\"OPENAI_API_KEY\"] = os.getenv('OPENAI_API_KEY')\n",
    "os.environ[\"GOOGLE_API_KEY\"] = os.getenv('GOOGLE_API_KEY')\n",
    "os.environ[\"LANGCHAIN_API_KEY\"] = os.getenv('LANGCHAIN_API_KEY')"
   ]
  },
  {
   "cell_type": "code",
   "execution_count": 22,
   "metadata": {},
   "outputs": [
    {
     "data": {
      "text/plain": [
       "'MIRA-local-dev'"
      ]
     },
     "execution_count": 22,
     "metadata": {},
     "output_type": "execute_result"
    }
   ],
   "source": [
    "os.getenv('LANGCHAIN_PROJECT')"
   ]
  },
  {
   "cell_type": "markdown",
   "metadata": {},
   "source": [
    "## MongoDB Config"
   ]
  },
  {
   "cell_type": "code",
   "execution_count": 6,
   "metadata": {},
   "outputs": [],
   "source": [
    "MONGODB_ATLAS_CLUSTER_URI = os.getenv('MONGODB_ATLAS_CLUSTER_URI')\n",
    "DB_NAME = os.getenv('DB_NAME')\n",
    "COLLECTION_NAME = os.getenv('COLLECTION_NAME')\n",
    "ATLAS_VECTOR_SEARCH_INDEX_NAME = os.getenv('ATLAS_VECTOR_SEARCH_INDEX_NAME')"
   ]
  },
  {
   "cell_type": "code",
   "execution_count": 7,
   "metadata": {},
   "outputs": [],
   "source": [
    "from langchain_openai import OpenAIEmbeddings\n",
    "from langchain_mongodb.vectorstores import MongoDBAtlasVectorSearch\n",
    "\n",
    "vector_search = MongoDBAtlasVectorSearch.from_connection_string(\n",
    "        MONGODB_ATLAS_CLUSTER_URI,\n",
    "        f\"{DB_NAME}.{COLLECTION_NAME}\",\n",
    "        OpenAIEmbeddings(),\n",
    "        index_name= ATLAS_VECTOR_SEARCH_INDEX_NAME\n",
    "    )"
   ]
  },
  {
   "cell_type": "markdown",
   "metadata": {},
   "source": [
    "## HyDE"
   ]
  },
  {
   "cell_type": "markdown",
   "metadata": {},
   "source": [
    "### Scientific Paper Passage"
   ]
  },
  {
   "cell_type": "code",
   "execution_count": 32,
   "metadata": {},
   "outputs": [
    {
     "data": {
      "text/plain": [
       "\"Finding a life partner is a complex and multifaceted process that involves a combination of biological, psychological, and social factors. Research in the field of evolutionary psychology suggests that humans have evolved to seek out partners who possess traits that are indicative of good genetic fitness, such as physical attractiveness, intelligence, and social status. Additionally, individuals may be drawn to partners who exhibit qualities that complement their own personality traits and values.\\n\\nIn terms of practical strategies for finding a life partner, research has shown that engaging in activities and social settings that align with one's interests and values can increase the likelihood of meeting a compatible partner. This could include joining clubs or organizations, attending social events, or using online dating platforms. Additionally, building strong social networks and maintaining open communication with friends and family members can also provide opportunities for meeting potential partners.\\n\\nIt is important to note that finding a life partner is a highly individualized process, and what works for one person may not work for another. It is essential to approach the search for a life partner with an open mind and a willingness to explore different avenues for meeting potential partners. Ultimately, finding a life partner requires a combination of self-awareness, patience, and a willingness to take risks in order to find a compatible and fulfilling relationship.\""
      ]
     },
     "execution_count": 32,
     "metadata": {},
     "output_type": "execute_result"
    }
   ],
   "source": [
    "from langchain.prompts import ChatPromptTemplate\n",
    "\n",
    "# HyDE document genration\n",
    "template = \"\"\"Please write a scientific paper passage to answer the question\n",
    "Question: {question}\n",
    "Passage:\"\"\"\n",
    "prompt_hyde = ChatPromptTemplate.from_template(template)\n",
    "\n",
    "from langchain_core.output_parsers import StrOutputParser\n",
    "from langchain_openai import ChatOpenAI\n",
    "\n",
    "generate_docs_for_retrieval = (\n",
    "    prompt_hyde | ChatOpenAI(model=\"gpt-3.5-turbo\", temperature=0) | StrOutputParser() \n",
    ")\n",
    "\n",
    "# Run\n",
    "question=\"How can I find partner for the life?\"\n",
    "generate_docs_for_retrieval.invoke({\"question\":question})"
   ]
  },
  {
   "cell_type": "markdown",
   "metadata": {},
   "source": [
    "### MongoDB Retrieval"
   ]
  },
  {
   "cell_type": "code",
   "execution_count": 12,
   "metadata": {},
   "outputs": [
    {
     "data": {
      "text/plain": [
       "[Document(metadata={'_id': {'$oid': '6694b846ff5fa8565a002678'}, 'source': './training/ask me How to find my passion.pdf', 'page': 0, 'start_index': 2363}, page_content=\"then that's how you start finding your passion. The other side of it is to try to find the passion \\nin the job you do. If you're a people person, maybe start finding the passion around \\nconnecting with people in the job that you're already doing. If you like to be artistic, maybe in \\nthe same job you're doing you can take on a little bit more of being artistic.  \\nSo it's in you definitely, you just haven't paid attention, the right attention to what it is that \\nyou're naturally  great at, something that you just can gravitate to all the time. You enjoy it, \\nyou don't get tired of it. Just observe, it should come to you. Thank you.\"),\n",
       " Document(metadata={'_id': {'$oid': '6694b846ff5fa8565a002676'}, 'source': './training/ask me How to find my passion.pdf', 'page': 0, 'start_index': 795}, page_content=\"most people don't really know what their passion is and they find it as they go and experience \\ndifferent jobs and different things.  \\nSo you might know what your passion is if it's naturally you wake up in the morning and if \\nthere's noth ing you got to do, it's on, you're on vacation or you know, on holiday and you'll \\nsee that if I don't have to work, what do I naturally gravitate to? What is it that if I ask, you \\nknow, 10 people around, they would say, we already know what you're passiona te about \\nbecause this is what we watch you do. This is, you're so great and natural at this that we're \\npositive that that's just who you are. We know you as that.  \\nSometimes we don't think about it that way because maybe since childhood people told us \\nthat go look for a job that makes money for you or is stable or we looked at professions and \\nindustries instead of really looking at what we love. So part of figuring out what your passion\"),\n",
       " Document(metadata={'_id': {'$oid': '6694b846ff5fa8565a002677'}, 'source': './training/ask me How to find my passion.pdf', 'page': 0, 'start_index': 1550}, page_content=\"that go look for a job that makes money for you or is stable or we looked at professions and \\nindustries instead of really looking at what we love. So part of figuring out what your passion \\nis start looking at your whole week or your whole month and see whene ver you had some \\ntime off, what is it that you naturally gravitated to? And you're thinking about it when there's \\nnothing to solve, when there's no choice to do, no responsibility and you're in your rest mode. \\nWhere does your brain go? Where does your inte rest go?  \\nAnd as you begin seeing your interest and what you love as even a hobby or play, then start \\nlooking, well, if I did that eight hours a day, nine hours a day, how would that be and what \\nkind of profession is already out there that I can see that  it does the same component? And \\nthen that's how you start finding your passion. The other side of it is to try to find the passion \\nin the job you do. If you're a people person, maybe start finding the passion around\"),\n",
       " Document(metadata={'_id': {'$oid': '6694b846ff5fa8565a002675'}, 'source': './training/ask me How to find my passion.pdf', 'page': 0, 'start_index': 0}, page_content=\"Hello, this is Dr. Foojan Zeine and in the ask me segment you guys have asked me some \\nquestions and thank you for that. The question is what do I do in order to find the passion that \\nI have so I can start working on that? And it's difficult for me because I'm working in an \\nindustry that I don't like. I get up every morning and I just, I don't want to go and yet \\nobviously I need the money so I can't just quit. But the other aspect of it is I don't even know \\nwhat I have passion for. So what do I do?  \\nI thin k that's a great question. I think some people have it as a childhood that this is what they \\nwant to do and they're very passionate about it. They go into the field and they're still \\npassionate about it. And there are a percentage of people who know exactl y what it is, but \\nmost people don't really know what their passion is and they find it as they go and experience \\ndifferent jobs and different things.\"),\n",
       " Document(metadata={'_id': {'$oid': '6690eccff3a760520e8f011c'}, 'source': './pdfs/Life Reset - Final version.pdf', 'page': 137, 'start_index': 812}, page_content='with realistic timelines, backed with clear action plans. And don’t be afraid to \\nembrace any goal or vision, from founder of your own billion-dollar company \\nto happy and fulfilled stay-at-home mom or dad.\\nThis may be a good time to consider again whether you are really living \\nyour passion with your work. If you have not actualized your dream job or \\ncareer, what steps do you need to take, right now, to start moving in that di -\\nrection? It may help to review your notes from your first stop at this life area \\non the Awareness Integration journey. You may have talked about a desired \\nchange in your work for years, but now it’s time to finally act. You have a \\nchanged identity to live by! Of course, if you know that realistically you need \\nto stick with a job that is not absolutely ideal for now, you can consider how \\nyou can bring in more of your newly claimed values and your deeper passion \\ninto doing the work you’re actually doing.')]"
      ]
     },
     "execution_count": 12,
     "metadata": {},
     "output_type": "execute_result"
    }
   ],
   "source": [
    "retrieval_chain = generate_docs_for_retrieval | vector_search.as_retriever(search_kwargs={\"k\":5})\n",
    "retireved_docs = retrieval_chain.invoke({\"question\":question})\n",
    "retireved_docs"
   ]
  },
  {
   "cell_type": "markdown",
   "metadata": {},
   "source": [
    "### Generation"
   ]
  },
  {
   "cell_type": "code",
   "execution_count": 8,
   "metadata": {},
   "outputs": [
    {
     "data": {
      "text/plain": [
       "'To find your passion, you can follow these steps:\\n\\n1. Reflect on your interests: Take some time to think about what activities or hobbies you naturally gravitate towards when you have free time. What do you enjoy doing without feeling tired or bored? This can give you clues about what you are passionate about.\\n\\n2. Experiment with different activities: Try out new things and see what resonates with you. Explore different hobbies, volunteer opportunities, or creative outlets to see what sparks your interest.\\n\\n3. Pay attention to feedback: Listen to what others say about your strengths and talents. Sometimes, people around you can see your passion more clearly than you can. If multiple people mention that you excel in a certain area, it could be a sign of your passion.\\n\\n4. Consider how you can incorporate your passion into your current job: If you are unable to switch careers immediately, think about how you can bring elements of your passion into your current job. Look for ways to be more creative, connect with people, or engage in activities that align with your interests.\\n\\n5. Seek guidance: If you are still unsure about your passion, consider talking to a career counselor, life coach, or therapist who can help you explore your interests and values more deeply.\\n\\nRemember, finding your passion is a journey, and it may take time to discover what truly excites and fulfills you. Be patient with yourself and stay open to new experiences and opportunities.'"
      ]
     },
     "execution_count": 8,
     "metadata": {},
     "output_type": "execute_result"
    }
   ],
   "source": [
    "# RAG RAAG\n",
    "template = \"\"\"You are an empathetic psychotherapist, parenting counselor, life-coach and mental health expert. \n",
    "Be empathetic while answering if the question includes some bad situation. \n",
    "Answer the following question based on the context given below, explain each point in a simple language.\n",
    "Don't look for the answers from other resources. If you don't find the answer from the context, just simply answer: \n",
    "\"I don't know\" or \"I didn't understand this, could you please provide some more information on it\".\n",
    "\n",
    "Context: {context}\n",
    "\n",
    "Question: {question}\n",
    "\"\"\"\n",
    "\n",
    "prompt = ChatPromptTemplate.from_template(template)\n",
    "\n",
    "final_rag_chain = (\n",
    "    prompt\n",
    "    | ChatOpenAI(model=\"gpt-3.5-turbo\",temperature=0)\n",
    "    | StrOutputParser()\n",
    ")\n",
    "\n",
    "final_rag_chain.invoke({\"context\":retrieved_docs,\"question\":question})"
   ]
  },
  {
   "cell_type": "code",
   "execution_count": 10,
   "metadata": {},
   "outputs": [],
   "source": [
    "from langchain.prompts import PromptTemplate\n",
    "from langchain.prompts.chat import (\n",
    "    ChatPromptTemplate,\n",
    "    HumanMessagePromptTemplate,\n",
    "    SystemMessagePromptTemplate,\n",
    ")"
   ]
  },
  {
   "cell_type": "code",
   "execution_count": 24,
   "metadata": {},
   "outputs": [],
   "source": [
    "\n",
    "system_template = \"\"\"You are an empathetic psychotherapist, parenting counselor, life-coach and mental health expert. \n",
    "You need to provide the solution to the user's query.\n",
    "Following are the instructions how you need to answer the user's query:\n",
    " \n",
    "1. Don't look for the answers from other resources. If you don't find the answer from the context, just simply answer: \n",
    "\"I don't know\" or \"I didn't understand this, could you please provide some more information on it\".\n",
    "\n",
    "2. For a positive question, acknowledge the positivity and then give the answer. For example: \n",
    "    (a) it is so nice to see that you are in a place in life that you want to _____.\n",
    "    (b) It is great to see that you are moving to the next phase of your life.\n",
    "    (c) it is wonderful to know you're ready to excel in different areas of your life.\n",
    "\n",
    "3. If it's a negative or painful question then empathize with the person that you know and you understand their pain or what they're going through \n",
    "and then give the answer. For example: We know that it must be very difficult to deal with ____.\n",
    "\"\"\"\n",
    "\n",
    "human_template = \"\"\"\n",
    "Answer the given question based on the context given below and keeping the instruction in mind, explain each point in a simple language.\n",
    "\n",
    "\n",
    "Context: {context}\n",
    "\n",
    "Question: {question}\n",
    "\"\"\"\n",
    "messages = [\n",
    "    SystemMessagePromptTemplate.from_template(system_template),\n",
    "    HumanMessagePromptTemplate.from_template(human_template),\n",
    "]\n",
    "CHAT_PROMPT = ChatPromptTemplate.from_messages(messages)"
   ]
  },
  {
   "cell_type": "code",
   "execution_count": 30,
   "metadata": {},
   "outputs": [],
   "source": []
  },
  {
   "cell_type": "code",
   "execution_count": 34,
   "metadata": {},
   "outputs": [
    {
     "data": {
      "text/plain": [
       "\"It's great to see that you are looking to find a partner for life. Here are some simple steps you can follow to find a fulfilling relationship:\\n\\n1. **Know What You Want**: Take some time to think about the type of relationship you desire. Consider creating a list of qualities you want in a partner and in the relationship.\\n\\n2. **Put Yourself Out There**: Don't be afraid to socialize and meet new people. Join clubs, classes, or groups where you can interact with others who share your interests.\\n\\n3. **Practice Communication**: Communication is key in any relationship. Practice talking to people, asking questions, and actively listening to others.\\n\\n4. **Learn from Others**: Talk to friends or read books about relationships. Learning from others' experiences can give you valuable insights.\\n\\n5. **Be Open to Rejection**: Rejection is a normal part of the dating process. Don't be discouraged by it. Keep trying and stay positive.\\n\\n6. **Take Your Time**: Finding the right partner takes time. Be patient and enjoy the journey of getting to know different people.\\n\\nRemember, building a meaningful relationship takes effort and time. Stay true to yourself and what you want in a partner, and eventually, you will find someone who is the right fit for you.\""
      ]
     },
     "execution_count": 34,
     "metadata": {},
     "output_type": "execute_result"
    }
   ],
   "source": [
    "final_rag_chain = (\n",
    "    CHAT_PROMPT\n",
    "    | ChatOpenAI(model=\"gpt-3.5-turbo\",temperature=0)\n",
    "    | StrOutputParser()\n",
    ")\n",
    "\n",
    "final_rag_chain.invoke({\"context\":retrieved_docs,\"question\":question})"
   ]
  },
  {
   "cell_type": "code",
   "execution_count": null,
   "metadata": {},
   "outputs": [],
   "source": []
  }
 ],
 "metadata": {
  "kernelspec": {
   "display_name": "Python 3",
   "language": "python",
   "name": "python3"
  },
  "language_info": {
   "codemirror_mode": {
    "name": "ipython",
    "version": 3
   },
   "file_extension": ".py",
   "mimetype": "text/x-python",
   "name": "python",
   "nbconvert_exporter": "python",
   "pygments_lexer": "ipython3",
   "version": "3.10.0"
  }
 },
 "nbformat": 4,
 "nbformat_minor": 2
}
