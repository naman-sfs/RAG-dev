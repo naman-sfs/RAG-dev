{
 "cells": [
  {
   "cell_type": "markdown",
   "metadata": {},
   "source": [
    "# INDEXING"
   ]
  },
  {
   "cell_type": "markdown",
   "metadata": {},
   "source": [
    "### Step 0: Adding OpenAI API Key"
   ]
  },
  {
   "cell_type": "code",
   "execution_count": 1,
   "metadata": {},
   "outputs": [],
   "source": [
    "import os\n",
    "os.environ['LANGCHAIN_TRACING_V2'] = 'true'\n",
    "os.environ['LANGCHAIN_ENDPOINT'] = 'https://api.smith.langchain.com'"
   ]
  },
  {
   "cell_type": "markdown",
   "metadata": {},
   "source": [
    "### Step 1: Loading the documents"
   ]
  },
  {
   "cell_type": "code",
   "execution_count": 2,
   "metadata": {},
   "outputs": [
    {
     "name": "stderr",
     "output_type": "stream",
     "text": [
      "Ignoring wrong pointing object 15 0 (offset 0)\n",
      "Ignoring wrong pointing object 17 0 (offset 0)\n",
      "Ignoring wrong pointing object 19 0 (offset 0)\n",
      "Ignoring wrong pointing object 26 0 (offset 0)\n",
      "Ignoring wrong pointing object 28 0 (offset 0)\n",
      "Ignoring wrong pointing object 41 0 (offset 0)\n",
      "Ignoring wrong pointing object 43 0 (offset 0)\n",
      "Ignoring wrong pointing object 61 0 (offset 0)\n",
      "Ignoring wrong pointing object 94 0 (offset 0)\n",
      "Ignoring wrong pointing object 181 0 (offset 0)\n",
      "Ignoring wrong pointing object 191 0 (offset 0)\n",
      "Ignoring wrong pointing object 216 0 (offset 0)\n",
      "Ignoring wrong pointing object 218 0 (offset 0)\n",
      "Ignoring wrong pointing object 220 0 (offset 0)\n",
      "Ignoring wrong pointing object 226 0 (offset 0)\n",
      "Ignoring wrong pointing object 241 0 (offset 0)\n",
      "Ignoring wrong pointing object 284 0 (offset 0)\n",
      "Ignoring wrong pointing object 381 0 (offset 0)\n",
      "Ignoring wrong pointing object 729 0 (offset 0)\n",
      "Ignoring wrong pointing object 731 0 (offset 0)\n",
      "Ignoring wrong pointing object 733 0 (offset 0)\n",
      "Ignoring wrong pointing object 735 0 (offset 0)\n",
      "Ignoring wrong pointing object 932 0 (offset 0)\n",
      "Ignoring wrong pointing object 934 0 (offset 0)\n",
      "Ignoring wrong pointing object 936 0 (offset 0)\n",
      "Ignoring wrong pointing object 991 0 (offset 0)\n"
     ]
    },
    {
     "name": "stdout",
     "output_type": "stream",
     "text": [
      "<class 'list'>\n"
     ]
    }
   ],
   "source": [
    "from langchain_community.document_loaders import PyPDFLoader\n",
    "\n",
    "loader = PyPDFLoader('./pdfs/PDF-1.pdf')\n",
    "pages = loader.load_and_split()\n",
    "\n",
    "print(type(pages))"
   ]
  },
  {
   "cell_type": "markdown",
   "metadata": {},
   "source": [
    "### Step 2: Splitting the texts into smaller chunks"
   ]
  },
  {
   "cell_type": "code",
   "execution_count": 3,
   "metadata": {},
   "outputs": [
    {
     "name": "stdout",
     "output_type": "stream",
     "text": [
      "<class 'langchain_core.documents.base.Document'>\n"
     ]
    }
   ],
   "source": [
    "from langchain_text_splitters import RecursiveCharacterTextSplitter  # This splitter splits the chunks from the end of the line\n",
    "\n",
    "text_splitter = RecursiveCharacterTextSplitter(chunk_size = 2000, chunk_overlap = 300, add_start_index = True)\n",
    "chunks = text_splitter.split_documents(pages)\n",
    "print(type(chunks[56]))"
   ]
  },
  {
   "cell_type": "markdown",
   "metadata": {},
   "source": [
    "### Step 3: Store the chunks"
   ]
  },
  {
   "cell_type": "code",
   "execution_count": 4,
   "metadata": {},
   "outputs": [
    {
     "name": "stderr",
     "output_type": "stream",
     "text": [
      "c:\\Users\\Python\\openai\\RAG-dev\\rag\\lib\\site-packages\\tqdm\\auto.py:21: TqdmWarning: IProgress not found. Please update jupyter and ipywidgets. See https://ipywidgets.readthedocs.io/en/stable/user_install.html\n",
      "  from .autonotebook import tqdm as notebook_tqdm\n"
     ]
    },
    {
     "name": "stdout",
     "output_type": "stream",
     "text": [
      "<class 'langchain_chroma.vectorstores.Chroma'>\n"
     ]
    }
   ],
   "source": [
    "from langchain_chroma import Chroma\n",
    "from langchain_google_genai import GoogleGenerativeAIEmbeddings\n",
    "\n",
    "vectorstore = Chroma.from_documents(documents=chunks,embedding=GoogleGenerativeAIEmbeddings(model = \"models/embedding-001\"))\n",
    "print(type(vectorstore))"
   ]
  },
  {
   "cell_type": "code",
   "execution_count": 5,
   "metadata": {},
   "outputs": [],
   "source": [
    "rertiever = vectorstore.as_retriever()"
   ]
  },
  {
   "cell_type": "markdown",
   "metadata": {},
   "source": [
    "# Prompt for Multi-Query"
   ]
  },
  {
   "cell_type": "code",
   "execution_count": 13,
   "metadata": {},
   "outputs": [],
   "source": [
    "from langchain.prompts import ChatPromptTemplate\n",
    "\n",
    "# Multi Query: Different Perspectives\n",
    "template = \"\"\"You are an AI language model assistant. Your task is to generate five \n",
    "different versions of the given user question to retrieve relevant documents from a vector \n",
    "database. By generating multiple perspectives on the user question, your goal is to help\n",
    "the user overcome some of the limitations of the distance-based similarity search. \n",
    "Provide these alternative questions separated by newlines. Original question: {question}\"\"\"\n",
    "prompt_perspectives = ChatPromptTemplate.from_template(template)\n",
    "\n",
    "from langchain_core.output_parsers import StrOutputParser\n",
    "from langchain_openai import ChatOpenAI\n",
    "\n",
    "generate_queries = (\n",
    "    prompt_perspectives \n",
    "    | ChatOpenAI(temperature=0) \n",
    "    | StrOutputParser() \n",
    "    | (lambda x: x.split(\"\\n\"))\n",
    ")"
   ]
  },
  {
   "cell_type": "code",
   "execution_count": 14,
   "metadata": {},
   "outputs": [
    {
     "data": {
      "text/plain": [
       "8"
      ]
     },
     "execution_count": 14,
     "metadata": {},
     "output_type": "execute_result"
    }
   ],
   "source": [
    "from langchain.load import dumps, loads\n",
    "\n",
    "def get_unique_union(documents: list[list]):\n",
    "    \"\"\" Unique union of retrieved docs \"\"\"\n",
    "    # Flatten list of lists, and convert each Document to string\n",
    "    flattened_docs = [dumps(doc) for sublist in documents for doc in sublist]\n",
    "    # Get unique documents\n",
    "    unique_docs = list(set(flattened_docs))\n",
    "    # Return\n",
    "    return [loads(doc) for doc in unique_docs]\n",
    "\n",
    "# Retrieve\n",
    "question = \"How to be a good parent?\"\n",
    "retrieval_chain = generate_queries | retriever.map() | get_unique_union\n",
    "docs = retrieval_chain.invoke({\"question\":question})\n",
    "len(docs)"
   ]
  },
  {
   "cell_type": "code",
   "execution_count": 10,
   "metadata": {},
   "outputs": [
    {
     "data": {
      "text/plain": [
       "[Document(page_content='Intentional Parenting', metadata={'page': 0, 'source': './pdfs/PDF-1.pdf', 'start_index': 0}),\n",
       " Document(page_content='Chapter One  \\n 22\\nguidelines, provide consistent, non-violent, and unconditional love, and \\ndemonstrate respect for their childre n’s developmental stages and unique \\nneeds within each stage. The objective of positive parenting is to teach \\ndiscipline in a way that builds a child’s self-esteem and supports a mutually \\nrespectful parent-child relationship without breaking the child’s spirit \\n(Godfrey, 2019). The overall picture of positive parenting is that of a warm, \\nthoughtful, and loving – but not permissive parent. \\nQualities of Children Raised within a Positive Parenting Style \\nParental use of a warm, loving, and supportive style, results in children \\ndeveloping a strong sense of prosocial behavior, the ability to appropriately \\nfunction in social settings, and the understanding of social conventions. \\nChildren raised within a family that follows a positive parenting style can \\nfocus on their assets, express their emotions in a healthy way, and \\nappropriately handle problems (Eisenberg et al., 2005). Children’s \\nemotional modulation and expression are recognized in the habits they \\nformed during their early childhood years from being raised in positive \\nparenting families. Generally speaking , there are many aspects of positive \\nparenting that nurture children’s self-esteem, creativity, belief in a positive \\nfuture, ability to get along with others, and sense of mastery over their \\nenvironment. \\nMindful Approach to Parenting \\nBased on the Buddhist mentality, a mindf ul parenting style uses a parent’s \\nconsciousness and awarenes s of their child’s behavior in context. This \\nmeans that the parent focuses their attention and the child’s conscious \\nattention on what is happening in the present, instead of allowing emotions \\nto influence decisions and dictate behaviors. Children are positively \\ninfluenced when parents model how to deal with stressful situations and \\nmake positive decisions for their behaviors in a consistent manner. A', metadata={'page': 35, 'source': './pdfs/PDF-1.pdf', 'start_index': 0}),\n",
       " Document(page_content='Intentional Parenting : \\nA Practical Guide to Awareness \\nIntegration  Theory  \\nBy \\nNicole Jafari, Foojan Zeine  \\nand Eileen Manoukian', metadata={'page': 1, 'source': './pdfs/PDF-1.pdf', 'start_index': 0}),\n",
       " Document(page_content='Career Opportunities 251 \\nlearn from challenges, build resilience, and move toward healthier \\nbehaviors rather than getting caught up in destructive emotional and \\nbehavioral patterns. \\nWith the speed of innovative technologies, each generation sees a rapid \\nchange in what societies around the gl obe consider to be typical parenting \\nissues. Currently, most families struggle with behavior management issues \\nand a lack of understanding of or sk ills in children’s emotional regulation \\nand executive function. Most import antly, parents are aware that their \\nchildren have access to information on the Internet and through apps that \\nparents may not be privy to. Many fa milies have dual-career parents, \\nmeaning that both parents work, and some have multiple part-time jobs \\nwithout benefits. Therefore, in some fa milies, there may be a lack of child \\nsupervision or limited quality time spent with children. These challenges, \\nwhich are experienced by many families, may lead to inconsistent discipline \\nand the use of punishment on behalf of the parent. Parents may only have \\nlimited time to spend with their children and might not have the skills to \\ndeal with all the challenges that are brought to the family by their children. \\nParent educators have a critical role in providing parent education with \\nstrategies parents can use that are developmentally and culturally \\nappropriate for their children.  \\nAll parents, whether they are from a high or low socioeconomic status, \\nmandated or non-mandated by the co urt, can benefit from evidence-based \\nparenting education. Only half (53 per cent) of the parents of school-age \\nchildren report that they are satisfied with their level of engagement with \\ntheir children, and a substantial share of parents (46 per cent) report that \\nthey wish they could be doing more with and for their children (Parenting \\nin America, 2015). Those parents, who have been coached and supported', metadata={'page': 264, 'source': './pdfs/PDF-1.pdf', 'start_index': 0}),\n",
       " Document(page_content='PART ONE  \\nCONTEXT FOR INTENTIONAL PARENTING', metadata={'page': 14, 'source': './pdfs/PDF-1.pdf', 'start_index': 0}),\n",
       " Document(page_content='between the parent and child, is a developmental milestone that takes place \\nbetween the ages of 9 and 24 months old. The precursor of attachment is \\nbonding, a physical relationship that starts prenatally and continues until \\nattachment takes place. A healthy attach ment style requires the caregiver’s \\nsensitivity and responsivity, and the mutually reciprocal relationships that \\nappear because of all the interactions (Juffer et al., 2008). \\nPositive parenting helps parents to develop and sustain their capacities for \\ncaring, teaching, leading, communicating, and providing for the needs of a \\nchild consistently and unconditionally (Seay et al., 2014). Positive parenting \\npositions parents so they can provide a nurturing and empowering environment \\nfor their children and recognize and acknowledge their children’s \\naccomplishments. Parents who use the po sitive parenting style give clear', metadata={'page': 34, 'source': './pdfs/PDF-1.pdf', 'start_index': 1749}),\n",
       " Document(page_content='their early childhood years, the effects of biology and genetics on an \\nindividual’s physical development, and the impactfulness of multi-factors \\nwithin bioecological systems on child-rearing and parenting. However, \\nthe complexity of the contexts and the number of perspectives in the field \\nof human growth and development make it difficult to establish a definitive \\nconcept that characterizes the best me thod of parenting. To reach a better \\nunderstanding of the complexities of raising a child, this chapter is offered \\nas an exploration of the topic of parenting to enrich our understanding of \\nthe science of parenting.', metadata={'page': 15, 'source': './pdfs/PDF-1.pdf', 'start_index': 1650}),\n",
       " Document(page_content='PART TWO \\nCHILD DEVELOPMENT FROM INFANCY \\nTHROUGH ADOLESCENCE', metadata={'page': 92, 'source': './pdfs/PDF-1.pdf', 'start_index': 0})]"
      ]
     },
     "execution_count": 10,
     "metadata": {},
     "output_type": "execute_result"
    }
   ],
   "source": [
    "docs"
   ]
  },
  {
   "cell_type": "code",
   "execution_count": 15,
   "metadata": {},
   "outputs": [
    {
     "data": {
      "text/plain": [
       "\"To be a good parent, one should follow positive parenting practices such as providing consistent, non-violent, and unconditional love, demonstrating respect for their child's developmental stages and unique needs, and teaching discipline in a way that builds the child's self-esteem. Additionally, being warm, loving, and supportive, fostering a nurturing and empowering environment, and modeling positive behavior are essential qualities of good parenting. It is also important to be mindful, conscious, and aware of the child's behavior, focus on the present moment, and make decisions in a consistent and positive manner. Ultimately, a good parent nurtures their child's self-esteem, creativity, belief in a positive future, ability to get along with others, and sense of mastery over their environment.\""
      ]
     },
     "execution_count": 15,
     "metadata": {},
     "output_type": "execute_result"
    }
   ],
   "source": [
    "from operator import itemgetter\n",
    "from langchain_openai import ChatOpenAI\n",
    "from langchain_core.runnables import RunnablePassthrough\n",
    "\n",
    "# RAG\n",
    "template = \"\"\"Answer the following question based on this context:\n",
    "\n",
    "{context}\n",
    "\n",
    "Question: {question}\n",
    "\"\"\"\n",
    "\n",
    "prompt = ChatPromptTemplate.from_template(template)\n",
    "\n",
    "llm = ChatOpenAI(temperature=0)\n",
    "\n",
    "final_rag_chain = (\n",
    "    {\"context\": retrieval_chain, \n",
    "     \"question\": itemgetter(\"question\")}\n",
    "    | prompt\n",
    "    | llm\n",
    "    | StrOutputParser()\n",
    ")\n",
    "\n",
    "final_rag_chain.invoke({\"question\":question})"
   ]
  },
  {
   "cell_type": "markdown",
   "metadata": {},
   "source": [
    "# RAG-Fusion"
   ]
  },
  {
   "cell_type": "code",
   "execution_count": 25,
   "metadata": {},
   "outputs": [],
   "source": [
    "from langchain.prompts import ChatPromptTemplate\n",
    "\n",
    "# RAG-Fusion: Related\n",
    "template = \"\"\"You are a helpful assistant that generates multiple search queries based on a single input query. \\n\n",
    "Generate multiple search queries related to: {question} \\n\n",
    "Output (4 queries):\"\"\"\n",
    "prompt_rag_fusion = ChatPromptTemplate.from_template(template)"
   ]
  },
  {
   "cell_type": "code",
   "execution_count": 26,
   "metadata": {},
   "outputs": [],
   "source": [
    "from langchain_core.output_parsers import StrOutputParser\n",
    "from langchain_openai import ChatOpenAI\n",
    "\n",
    "generate_queries = (\n",
    "    prompt_rag_fusion \n",
    "    | ChatOpenAI(temperature=0)\n",
    "    | StrOutputParser() \n",
    "    | (lambda x: x.split(\"\\n\"))\n",
    ")"
   ]
  },
  {
   "cell_type": "code",
   "execution_count": 27,
   "metadata": {},
   "outputs": [
    {
     "data": {
      "text/plain": [
       "5"
      ]
     },
     "execution_count": 27,
     "metadata": {},
     "output_type": "execute_result"
    }
   ],
   "source": [
    "from langchain.load import dumps, loads\n",
    "\n",
    "def reciprocal_rank_fusion(results: list[list], k=60):\n",
    "    \"\"\" Reciprocal_rank_fusion that takes multiple lists of ranked documents \n",
    "        and an optional parameter k used in the RRF formula \"\"\"\n",
    "    \n",
    "    # Initialize a dictionary to hold fused scores for each unique document\n",
    "    fused_scores = {}\n",
    "\n",
    "    # Iterate through each list of ranked documents\n",
    "    for docs in results:\n",
    "        # Iterate through each document in the list, with its rank (position in the list)\n",
    "        for rank, doc in enumerate(docs):\n",
    "            # Convert the document to a string format to use as a key (assumes documents can be serialized to JSON)\n",
    "            doc_str = dumps(doc)\n",
    "            # If the document is not yet in the fused_scores dictionary, add it with an initial score of 0\n",
    "            if doc_str not in fused_scores:\n",
    "                fused_scores[doc_str] = 0\n",
    "            # Retrieve the current score of the document, if any\n",
    "            previou1s_score = fused_scores[doc_str]\n",
    "            # Update the score of the document using the RRF formula: 1 / (rank + k)\n",
    "            fused_scores[doc_str] += 1 / (rank + k)\n",
    "\n",
    "    # Sort the documents based on their fused scores in descending order to get the final reranked results\n",
    "    reranked_results = [\n",
    "        (loads(doc), score)\n",
    "        for doc, score in sorted(fused_scores.items(), key=lambda x: x[1], reverse=True)\n",
    "    ]\n",
    "\n",
    "    # Return the reranked results as a list of tuples, each containing the document and its fused score\n",
    "    return reranked_results\n",
    "\n",
    "question = \"How to be a good parent?\"\n",
    "retrieval_chain_rag_fusion = generate_queries | retriever.map() | reciprocal_rank_fusion\n",
    "docs = retrieval_chain_rag_fusion.invoke({\"question\": question})\n",
    "len(docs)"
   ]
  },
  {
   "cell_type": "code",
   "execution_count": 28,
   "metadata": {},
   "outputs": [
    {
     "data": {
      "text/plain": [
       "'To be a good parent, one can start by being intentional in their parenting approach, understanding child development from infancy through adolescence, and being aware of the practical guide to awareness integration theory provided by Nicole Jafari, Foojan Zeine, and Eileen Manoukian in the book \"Intentional Parenting.\" Additionally, exploring career opportunities related to parenting can also contribute to being a good parent.'"
      ]
     },
     "execution_count": 28,
     "metadata": {},
     "output_type": "execute_result"
    }
   ],
   "source": [
    "from langchain_core.runnables import RunnablePassthrough\n",
    "\n",
    "# RAG\n",
    "template = \"\"\"Answer the following question based on this context:\n",
    "\n",
    "{context}\n",
    "\n",
    "Question: {question}\n",
    "\"\"\"\n",
    "\n",
    "prompt = ChatPromptTemplate.from_template(template)\n",
    "\n",
    "final_rag_chain = (\n",
    "    {\"context\": retrieval_chain_rag_fusion,\n",
    "     \"question\": itemgetter(\"question\")} \n",
    "    | prompt\n",
    "    | llm\n",
    "    | StrOutputParser()\n",
    ")\n",
    "\n",
    "final_rag_chain.invoke({\"question\":question})"
   ]
  },
  {
   "cell_type": "markdown",
   "metadata": {},
   "source": [
    "# Decomposition"
   ]
  },
  {
   "cell_type": "code",
   "execution_count": 16,
   "metadata": {},
   "outputs": [],
   "source": [
    "from langchain.prompts import ChatPromptTemplate\n",
    "\n",
    "# Decomposition\n",
    "template = \"\"\"You are a helpful assistant that generates multiple sub-questions related to an input question. \\n\n",
    "The goal is to break down the input into a set of sub-problems / sub-questions that can be answers in isolation. \\n\n",
    "Generate multiple search queries related to: {question} \\n\n",
    "Output (3 queries):\"\"\"\n",
    "prompt_decomposition = ChatPromptTemplate.from_template(template)"
   ]
  },
  {
   "cell_type": "code",
   "execution_count": 17,
   "metadata": {},
   "outputs": [],
   "source": [
    "from langchain_openai import ChatOpenAI\n",
    "from langchain_core.output_parsers import StrOutputParser\n",
    "\n",
    "# LLM\n",
    "llm = ChatOpenAI(temperature=0)\n",
    "\n",
    "# Chain\n",
    "generate_queries_decomposition = ( prompt_decomposition | llm | StrOutputParser() | (lambda x: x.split(\"\\n\")))\n",
    "\n",
    "# Run\n",
    "question = \"How to be a good parent?\"\n",
    "questions = generate_queries_decomposition.invoke({\"question\":question})"
   ]
  },
  {
   "cell_type": "code",
   "execution_count": 18,
   "metadata": {},
   "outputs": [
    {
     "data": {
      "text/plain": [
       "['1. What are effective communication strategies for parents to use with their children?',\n",
       " '2. How can parents establish and maintain a positive and supportive relationship with their children?',\n",
       " '3. What are some effective discipline techniques for parents to use when addressing challenging behavior in children?']"
      ]
     },
     "execution_count": 18,
     "metadata": {},
     "output_type": "execute_result"
    }
   ],
   "source": [
    "questions"
   ]
  },
  {
   "cell_type": "code",
   "execution_count": 19,
   "metadata": {},
   "outputs": [],
   "source": [
    "# Answer each sub-question individually \n",
    "\n",
    "from langchain import hub\n",
    "from langchain_core.prompts import ChatPromptTemplate\n",
    "from langchain_core.runnables import RunnablePassthrough, RunnableLambda\n",
    "from langchain_core.output_parsers import StrOutputParser\n",
    "from langchain_openai import ChatOpenAI\n",
    "\n",
    "# RAG prompt\n",
    "prompt_rag = hub.pull(\"rlm/rag-prompt\")\n",
    "\n",
    "def retrieve_and_rag(question,prompt_rag,sub_question_generator_chain):\n",
    "    \"\"\"RAG on each sub-question\"\"\"\n",
    "    \n",
    "    # Use our decomposition \n",
    "    sub_questions = sub_question_generator_chain.invoke({\"question\":question})\n",
    "    \n",
    "    # Initialize a list to hold RAG chain results\n",
    "    rag_results = []\n",
    "    \n",
    "    for sub_question in sub_questions:\n",
    "        \n",
    "        # Retrieve documents for each sub-question\n",
    "        retrieved_docs = retriever.get_relevant_documents(sub_question)\n",
    "        \n",
    "        # Use retrieved documents and sub-question in RAG chain\n",
    "        answ0er = (prompt_rag | llm | StrOutputParser()).invoke({\"context\": retrieved_docs, \n",
    "                                                                \"question\": sub_question})\n",
    "        rag_results.append(answer)\n",
    "    \n",
    "    return rag_results,sub_questions\n",
    "\n",
    "# Wrap the retrieval and RAG process in a RunnableLambda for integration into a chain\n",
    "answers, questions = retrieve_and_rag(question, prompt_rag, generate_queries_decomposition)"
   ]
  },
  {
   "cell_type": "code",
   "execution_count": 20,
   "metadata": {},
   "outputs": [
    {
     "data": {
      "text/plain": [
       "'To be a good parent, it is important to utilize effective communication strategies with your children, such as being sensitive and responsive, maintaining mutually reciprocal relationships, and providing consistent and unconditional care. Establishing and maintaining a positive and supportive relationship with your children involves practicing positive parenting, which includes nurturing, empowering, and acknowledging their accomplishments. Setting boundaries and discipline in a fair and consistent manner can be achieved by providing consistent, non-violent, and unconditional love, respecting their developmental stages and unique needs, and teaching discipline in a way that builds their self-esteem. Overall, being a good parent involves being mindful, focusing on the present moment, modeling positive behaviors, and making decisions that support a respectful and loving parent-child relationship.'"
      ]
     },
     "execution_count": 20,
     "metadata": {},
     "output_type": "execute_result"
    }
   ],
   "source": [
    "def format_qa_pairs(questions, answers):\n",
    "    \"\"\"Format Q and A pairs\"\"\"\n",
    "    \n",
    "    formatted_string = \"\"\n",
    "    for i, (question, answer) in enumerate(zip(questions, answers), start=1):\n",
    "        formatted_string += f\"Question {i}: {question}\\nAnswer {i}: {answer}\\n\\n\"\n",
    "    return formatted_string.strip()\n",
    "\n",
    "context = format_qa_pairs(questions, answers)\n",
    "\n",
    "# Prompt\n",
    "template = \"\"\"Here is a set of Q+A pairs:\n",
    "\n",
    "{context}\n",
    "\n",
    "Use these to synthesize an answer to the question: {question}\n",
    "\"\"\"\n",
    "\n",
    "prompt = ChatPromptTemplate.from_template(template)\n",
    "\n",
    "final_rag_chain = (\n",
    "    prompt\n",
    "    | llm\n",
    "    | StrOutputParser()\n",
    ")\n",
    "\n",
    "final_rag_chain.invoke({\"context\":context,\"question\":question})"
   ]
  },
  {
   "cell_type": "markdown",
   "metadata": {},
   "source": [
    "# HyDE"
   ]
  },
  {
   "cell_type": "code",
   "execution_count": 6,
   "metadata": {},
   "outputs": [
    {
     "data": {
      "text/plain": [
       "\"Parenting is a complex and multifaceted task that requires a combination of skills, knowledge, and personal qualities. Research has shown that there are several key factors that contribute to being a good parent. \\n\\nFirst and foremost, it is important for parents to provide a safe and nurturing environment for their children. This includes ensuring that their basic needs are met, such as food, shelter, and clothing, as well as creating a supportive and loving atmosphere in the home. Studies have shown that children who grow up in a stable and secure environment are more likely to thrive and develop into well-adjusted adults.\\n\\nIn addition to providing for their children's physical needs, good parents also play an active role in their children's emotional and cognitive development. This includes engaging in activities that promote learning and growth, such as reading to them, playing educational games, and encouraging them to explore their interests and talents. Research has shown that children who receive this type of support and stimulation from their parents are more likely to excel academically and socially.\\n\\nFurthermore, good parents also set clear boundaries and expectations for their children, while also allowing them the freedom to make choices and learn from their mistakes. This balance between structure and autonomy helps children develop a sense of responsibility and independence, while also feeling supported and guided by their parents.\\n\\nOverall, being a good parent requires a combination of love, patience, consistency, and a willingness to learn and grow alongside your children. By providing a safe and nurturing environment, actively engaging in their development, and setting clear boundaries, parents can help their children thrive and reach their full potential.\""
      ]
     },
     "execution_count": 6,
     "metadata": {},
     "output_type": "execute_result"
    }
   ],
   "source": [
    "from langchain.prompts import ChatPromptTemplate\n",
    "\n",
    "# HyDE document genration\n",
    "template = \"\"\"Please write a scientific paper passage to answer the question\n",
    "Question: {question}\n",
    "Passage:\"\"\"\n",
    "prompt_hyde = ChatPromptTemplate.from_template(template)\n",
    "\n",
    "from langchain_core.output_parsers import StrOutputParser\n",
    "from langchain_openai import ChatOpenAI\n",
    "\n",
    "generate_docs_for_retrieval = (\n",
    "    prompt_hyde | ChatOpenAI(temperature=0) | StrOutputParser() \n",
    ")\n",
    "\n",
    "# Run\n",
    "question = \"How to be a good parent?\"\n",
    "generate_docs_for_retrieval.invoke({\"question\":question})"
   ]
  },
  {
   "cell_type": "code",
   "execution_count": 7,
   "metadata": {},
   "outputs": [
    {
     "data": {
      "text/plain": [
       "[Document(page_content='their early childhood years, the effects of biology and genetics on an \\nindividual’s physical development, and the impactfulness of multi-factors \\nwithin bioecological systems on child-rearing and parenting. However, \\nthe complexity of the contexts and the number of perspectives in the field \\nof human growth and development make it difficult to establish a definitive \\nconcept that characterizes the best me thod of parenting. To reach a better \\nunderstanding of the complexities of raising a child, this chapter is offered \\nas an exploration of the topic of parenting to enrich our understanding of \\nthe science of parenting.', metadata={'page': 15, 'source': './pdfs/PDF-1.pdf', 'start_index': 1650}),\n",
       " Document(page_content='meeting the child’s biological basic needs, physical and spiritual wellbeing, \\nsafety and security, and educational needs. Additionally, modern parents \\nhave an obligation to create an environment that provides developmentally \\nappropriate practices and experiences . The psychosocial and emotional \\nneeds of a child are also part of the parenting responsibility, which must be \\nmet to ensure a child’s healthy emotional development, cultural continuity, \\nand spiritual and religious upbringing (Brooks, 2013). \\nPsychological and Social Factors on Why People Choose \\nto Become Parents \\nHuman beings go through natural biological growth. A part of this \\nbiological growth entails continuity of life in the form of procreation. There \\nis also a natural developmental growth process that includes childhood, \\nadolescence, and adulthood, productivity in a career, partnership in a \\nrelationship, parenthood, and contribution to society. A person who has \\nreceived love and care from their pa rents, caregivers, and community', metadata={'page': 17, 'source': './pdfs/PDF-1.pdf', 'start_index': 1637}),\n",
       " Document(page_content='between the parent and child, is a developmental milestone that takes place \\nbetween the ages of 9 and 24 months old. The precursor of attachment is \\nbonding, a physical relationship that starts prenatally and continues until \\nattachment takes place. A healthy attach ment style requires the caregiver’s \\nsensitivity and responsivity, and the mutually reciprocal relationships that \\nappear because of all the interactions (Juffer et al., 2008). \\nPositive parenting helps parents to develop and sustain their capacities for \\ncaring, teaching, leading, communicating, and providing for the needs of a \\nchild consistently and unconditionally (Seay et al., 2014). Positive parenting \\npositions parents so they can provide a nurturing and empowering environment \\nfor their children and recognize and acknowledge their children’s \\naccomplishments. Parents who use the po sitive parenting style give clear', metadata={'page': 34, 'source': './pdfs/PDF-1.pdf', 'start_index': 1749}),\n",
       " Document(page_content='the child’s developmental needs and requirements. An infant’s need for \\nparental attention certainly changes as the child reaches toddlerhood or later \\npreschool years. Parents need to shift their thought processes and focus on \\neach child to reflect these developmen tal shifts accordingly. Parents are \\nconstantly learning and tackling newfound parenting challenges while they \\nare also going through developmental changes (Myers, 2011). Examples of \\nthe many roles that a parent will adap t to are demonstrated in Table 1-4. \\nToday’s millennials as parents, in ma ny cultures, are re-inventing the art of \\nparenting and creating new concepts on how to raise children. Concepts, \\nsuch as positive parenting, mindful parenting, and awareness integration \\nparenting, reflect the need for parents to approach parenting and raising', metadata={'page': 38, 'source': './pdfs/PDF-1.pdf', 'start_index': 1763})]"
      ]
     },
     "execution_count": 7,
     "metadata": {},
     "output_type": "execute_result"
    }
   ],
   "source": [
    "# Retrieve\n",
    "retrieval_chain = generate_docs_for_retrieval | retriever\n",
    "retireved_docs = retrieval_chain.invoke({\"question\":question})\n",
    "retireved_docs"
   ]
  },
  {
   "cell_type": "code",
   "execution_count": 8,
   "metadata": {},
   "outputs": [
    {
     "data": {
      "text/plain": [
       "\"To be a good parent, it is important to meet the child's biological basic needs, physical and spiritual well-being, safety and security, and educational needs. Additionally, creating an environment that provides developmentally appropriate practices and experiences is crucial. Parents should also address the psychosocial and emotional needs of the child to ensure healthy emotional development, cultural continuity, and spiritual and religious upbringing. Positive parenting, which involves caring, teaching, leading, communicating, and providing for the needs of a child consistently and unconditionally, is also essential. Building a healthy attachment style through sensitivity, responsivity, and mutually reciprocal relationships is important for the parent-child bond. Adapting to the child's developmental shifts and constantly learning and tackling new parenting challenges are also key aspects of being a good parent. Additionally, concepts such as positive parenting, mindful parenting, and awareness integration parenting reflect the need for parents to approach parenting and raising children in a thoughtful and intentional manner.\""
      ]
     },
     "execution_count": 8,
     "metadata": {},
     "output_type": "execute_result"
    }
   ],
   "source": [
    "# RAG RAAG\n",
    "template = \"\"\"Answer the following question based on this context:\n",
    "\n",
    "{context}\n",
    "\n",
    "Question: {question}\n",
    "\"\"\"\n",
    "\n",
    "prompt = ChatPromptTemplate.from_template(template)\n",
    "\n",
    "final_rag_chain = (\n",
    "    prompt\n",
    "    | ChatOpenAI(temperature=0)\n",
    "    | StrOutputParser()\n",
    ")\n",
    "\n",
    "final_rag_chain.invoke({\"context\":retireved_docs,\"question\":question})"
   ]
  },
  {
   "cell_type": "markdown",
   "metadata": {},
   "source": [
    "# Step-Back Prompting"
   ]
  },
  {
   "cell_type": "code",
   "execution_count": 16,
   "metadata": {},
   "outputs": [],
   "source": [
    "# Few Shot Examples\n",
    "from langchain_core.prompts import ChatPromptTemplate, FewShotChatMessagePromptTemplate\n",
    "examples = [\n",
    "     {\n",
    "        \"input\": \"Could the members of The Police perform lawful arrests?\",\n",
    "        \"output\": \"what can the members of The Police do?\",\n",
    "    },\n",
    "    {\n",
    "        \"input\": \"Jan Sindel’s was born in what country?\",\n",
    "        \"output\": \"what is Jan Sindel’s personal history?\",\n",
    "    },\n",
    "]    \n",
    "# We now transform these to example messages\n",
    "example_prompt = ChatPromptTemplate.from_messages(\n",
    "    [\n",
    "        (\"human\", \"{input}\"),\n",
    "        (\"ai\", \"{output}\"),\n",
    "    ]\n",
    ")\n",
    "few_shot_prompt = FewShotChatMessagePromptTemplate(\n",
    "    example_prompt=example_prompt,\n",
    "    examples=examples,\n",
    ")\n",
    "prompt = ChatPromptTemplate.from_messages(\n",
    "    [\n",
    "        (\n",
    "            \"system\",\n",
    "            \"\"\"You are an expert at world knowledge. Your task is to step back and paraphrase a question to a more generic step-back question, which is easier to answer. Here are a few examples:\"\"\",\n",
    "        ),\n",
    "        # Few shot examples\n",
    "        few_shot_prompt,\n",
    "        # New question\n",
    "        (\"user\", \"{question}\"),\n",
    "    ]\n",
    ")"
   ]
  },
  {
   "cell_type": "code",
   "execution_count": 17,
   "metadata": {},
   "outputs": [
    {
     "data": {
      "text/plain": [
       "'What are the qualities of a good parent?'"
      ]
     },
     "execution_count": 17,
     "metadata": {},
     "output_type": "execute_result"
    }
   ],
   "source": [
    "generate_queries_step_back = prompt | ChatOpenAI(temperature=0) | StrOutputParser()\n",
    "question = \"How to be a good Parent?\"\n",
    "generate_queries_step_back.invoke({\"question\": question})"
   ]
  },
  {
   "cell_type": "code",
   "execution_count": 18,
   "metadata": {},
   "outputs": [
    {
     "data": {
      "text/plain": [
       "\"Being a good parent involves a combination of factors that contribute to the overall well-being and development of your child. Here are some key aspects to consider:\\n\\n1. **Unconditional Love and Support**: One of the most important things you can do as a parent is to show your child unconditional love and support. This means being there for them no matter what, and letting them know that you will always be their biggest cheerleader.\\n\\n2. **Effective Communication**: Good communication is essential in any relationship, including the one between parent and child. Listen to your child, validate their feelings, and communicate openly and honestly with them.\\n\\n3. **Setting Boundaries**: While it's important to be loving and supportive, it's also crucial to set boundaries and provide structure for your child. This helps them feel safe and secure, and teaches them important life skills.\\n\\n4. **Positive Reinforcement**: Encouraging and praising your child for their accomplishments, no matter how small, can help boost their self-esteem and confidence. Positive reinforcement is a powerful tool in shaping your child's behavior.\\n\\n5. **Lead by Example**: Children learn by watching their parents, so it's important to model the behavior you want to see in your child. Show them kindness, empathy, and respect, and they are more likely to emulate these qualities.\\n\\n6. **Stay Involved**: Stay involved in your child's life, both academically and socially. Attend school events, extracurricular activities, and spend quality time with them. This shows your child that you are interested and invested in their well-being.\\n\\n7. **Educate Yourself**: Parenting is a learning process, and it's important to educate yourself on child development, parenting techniques, and strategies for dealing with challenging behaviors. Books, workshops, and support groups can be valuable resources.\\n\\n8. **Seek Help When Needed**: Parenting can be challenging, and it's okay to seek help when needed. Whether it's talking to a therapist, joining a parenting group, or seeking advice from other parents, don't be afraid to reach out for support.\\n\\nBy incorporating these aspects into your parenting approach, you can create a nurturing and supportive environment for your child to thrive and grow into a happy, healthy individual. Remember, no parent is perfect, but by striving to be the best parent you can be, you are already on the right path.\""
      ]
     },
     "execution_count": 18,
     "metadata": {},
     "output_type": "execute_result"
    }
   ],
   "source": [
    "# Response prompt \n",
    "from langchain_core.runnables import RunnableLambda\n",
    "response_prompt_template = \"\"\"You are an expert of world knowledge. I am going to ask you a question. Your response should be comprehensive and not contradicted with the following context if they are relevant. Otherwise, ignore them if they are not relevant.\n",
    "\n",
    "# {normal_context}\n",
    "# {step_back_context}\n",
    "\n",
    "# Original Question: {question}\n",
    "# Answer:\"\"\"\n",
    "response_prompt = ChatPromptTemplate.from_template(response_prompt_template)\n",
    "\n",
    "chain = (\n",
    "    {\n",
    "        # Retrieve context using the normal question\n",
    "        \"normal_context\": RunnableLambda(lambda x: x[\"question\"]) | retriever,\n",
    "        # Retrieve context using the step-back question\n",
    "        \"step_back_context\": generate_queries_step_back | retriever,\n",
    "        # Pass on the question\n",
    "        \"question\": lambda x: x[\"question\"],\n",
    "    }\n",
    "    | response_prompt\n",
    "    | ChatOpenAI(temperature=0)\n",
    "    | StrOutputParser()\n",
    ")\n",
    "\n",
    "chain.invoke({\"question\": question})"
   ]
  },
  {
   "cell_type": "markdown",
   "metadata": {},
   "source": [
    "# Retrieval and Generation"
   ]
  },
  {
   "cell_type": "markdown",
   "metadata": {},
   "source": [
    "### Step 1: Retieval of similar documents from the vector store\n"
   ]
  },
  {
   "cell_type": "code",
   "execution_count": 5,
   "metadata": {},
   "outputs": [],
   "source": [
    "retriever = vectorstore.as_retriever(search_type=\"similarity\", search_kwargs={\"k\": 3})\n",
    "retrieved_docs = retriever.invoke(\"How to be a good parent?\")\n",
    "# for doc in retrieved_docs:\n",
    "#     print(doc.page_content)\n",
    "#     print(\"***************************************\")"
   ]
  },
  {
   "cell_type": "markdown",
   "metadata": {},
   "source": [
    "### Step 2: Generating"
   ]
  },
  {
   "cell_type": "code",
   "execution_count": 6,
   "metadata": {},
   "outputs": [
    {
     "name": "stdout",
     "output_type": "stream",
     "text": [
      "Being a good parent involves being intentional in your approach to parenting, which means being aware of your actions and decisions. It is important to integrate theory and practical guidance in your parenting style to ensure the best outcomes for your children. By being intentional in your parenting, you can create a nurturing and supportive environment for your children to thrive."
     ]
    }
   ],
   "source": [
    "from langchain_openai import ChatOpenAI\n",
    "\n",
    "llm = ChatOpenAI(model=\"gpt-3.5-turbo\",temperature=0.4,max_tokens=1024)\n",
    "\n",
    "from langchain import hub\n",
    "\n",
    "prompt = hub.pull('rlm/rag-prompt')\n",
    "\n",
    "from langchain_core.output_parsers import StrOutputParser\n",
    "from langchain_core.runnables import RunnablePassthrough\n",
    "\n",
    "\n",
    "def format_docs(docs):\n",
    "    return \"\\n\\n\".join(doc.page_content for doc in docs)\n",
    "\n",
    "\n",
    "rag_chain = (\n",
    "    {\"context\": retriever | format_docs, \"question\": RunnablePassthrough()}\n",
    "    | prompt\n",
    "    | llm\n",
    "    | StrOutputParser()\n",
    ")\n",
    "\n",
    "for chunk in rag_chain.stream(\"How to be a good parent?\"):\n",
    "    print(chunk, end=\"\", flush=True)"
   ]
  }
 ],
 "metadata": {
  "kernelspec": {
   "display_name": "Python 3",
   "language": "python",
   "name": "python3"
  },
  "language_info": {
   "codemirror_mode": {
    "name": "ipython",
    "version": 3
   },
   "file_extension": ".py",
   "mimetype": "text/x-python",
   "name": "python",
   "nbconvert_exporter": "python",
   "pygments_lexer": "ipython3",
   "version": "3.10.0"
  }
 },
 "nbformat": 4,
 "nbformat_minor": 2
}
