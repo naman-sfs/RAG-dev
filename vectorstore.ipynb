{
 "cells": [
  {
   "cell_type": "code",
   "execution_count": 1,
   "metadata": {},
   "outputs": [],
   "source": [
    "import os\n",
    "os.environ['LANGCHAIN_TRACING_V2'] = 'true'\n",
    "os.environ['LANGCHAIN_ENDPOINT'] = 'https://api.smith.langchain.com'"
   ]
  },
  {
   "cell_type": "code",
   "execution_count": 11,
   "metadata": {},
   "outputs": [
    {
     "name": "stderr",
     "output_type": "stream",
     "text": [
      "Ignoring wrong pointing object 13 0 (offset 0)\n",
      "Ignoring wrong pointing object 20 0 (offset 0)\n",
      "Ignoring wrong pointing object 28 0 (offset 0)\n",
      "Ignoring wrong pointing object 30 0 (offset 0)\n",
      "Ignoring wrong pointing object 41 0 (offset 0)\n",
      "Ignoring wrong pointing object 55 0 (offset 0)\n",
      "Ignoring wrong pointing object 66 0 (offset 0)\n",
      "Ignoring wrong pointing object 109 0 (offset 0)\n",
      "Ignoring wrong pointing object 155 0 (offset 0)\n",
      "Ignoring wrong pointing object 157 0 (offset 0)\n",
      "Ignoring wrong pointing object 159 0 (offset 0)\n",
      "Ignoring wrong pointing object 15 0 (offset 0)\n",
      "Ignoring wrong pointing object 17 0 (offset 0)\n",
      "Ignoring wrong pointing object 19 0 (offset 0)\n",
      "Ignoring wrong pointing object 26 0 (offset 0)\n",
      "Ignoring wrong pointing object 28 0 (offset 0)\n",
      "Ignoring wrong pointing object 41 0 (offset 0)\n",
      "Ignoring wrong pointing object 43 0 (offset 0)\n",
      "Ignoring wrong pointing object 61 0 (offset 0)\n",
      "Ignoring wrong pointing object 94 0 (offset 0)\n",
      "Ignoring wrong pointing object 181 0 (offset 0)\n",
      "Ignoring wrong pointing object 191 0 (offset 0)\n",
      "Ignoring wrong pointing object 216 0 (offset 0)\n",
      "Ignoring wrong pointing object 218 0 (offset 0)\n",
      "Ignoring wrong pointing object 220 0 (offset 0)\n",
      "Ignoring wrong pointing object 226 0 (offset 0)\n",
      "Ignoring wrong pointing object 241 0 (offset 0)\n",
      "Ignoring wrong pointing object 284 0 (offset 0)\n",
      "Ignoring wrong pointing object 381 0 (offset 0)\n",
      "Ignoring wrong pointing object 729 0 (offset 0)\n",
      "Ignoring wrong pointing object 731 0 (offset 0)\n",
      "Ignoring wrong pointing object 733 0 (offset 0)\n",
      "Ignoring wrong pointing object 735 0 (offset 0)\n",
      "Ignoring wrong pointing object 932 0 (offset 0)\n",
      "Ignoring wrong pointing object 934 0 (offset 0)\n",
      "Ignoring wrong pointing object 936 0 (offset 0)\n",
      "Ignoring wrong pointing object 991 0 (offset 0)\n",
      "Ignoring wrong pointing object 6 0 (offset 0)\n",
      "Ignoring wrong pointing object 19 0 (offset 0)\n",
      "Ignoring wrong pointing object 21 0 (offset 0)\n",
      "Ignoring wrong pointing object 26 0 (offset 0)\n",
      "Ignoring wrong pointing object 28 0 (offset 0)\n",
      "Ignoring wrong pointing object 34 0 (offset 0)\n",
      "Ignoring wrong pointing object 39 0 (offset 0)\n"
     ]
    },
    {
     "data": {
      "text/plain": [
       "619"
      ]
     },
     "execution_count": 11,
     "metadata": {},
     "output_type": "execute_result"
    }
   ],
   "source": [
    "import os\n",
    "from langchain_community.document_loaders import PyPDFLoader\n",
    "pdfs = os.listdir('./pdfs')\n",
    "documents = []\n",
    "for pdf in pdfs:\n",
    "    loader = PyPDFLoader(f'./pdfs/{pdf}')\n",
    "    pages = loader.load_and_split()\n",
    "    documents.extend(pages)\n",
    "    \n",
    "len(documents)"
   ]
  },
  {
   "cell_type": "code",
   "execution_count": 12,
   "metadata": {},
   "outputs": [
    {
     "name": "stdout",
     "output_type": "stream",
     "text": [
      "1766\n"
     ]
    }
   ],
   "source": [
    "from langchain_text_splitters import RecursiveCharacterTextSplitter  # This splitter splits the chunks from the end of the line\n",
    "\n",
    "text_splitter = RecursiveCharacterTextSplitter(chunk_size = 1000, chunk_overlap = 100, add_start_index = True)\n",
    "chunks = text_splitter.split_documents(documents)\n",
    "print(len(chunks))"
   ]
  },
  {
   "cell_type": "code",
   "execution_count": 2,
   "metadata": {},
   "outputs": [
    {
     "name": "stderr",
     "output_type": "stream",
     "text": [
      "c:\\Users\\Python\\openai\\RAG-dev\\rag\\lib\\site-packages\\tqdm\\auto.py:21: TqdmWarning: IProgress not found. Please update jupyter and ipywidgets. See https://ipywidgets.readthedocs.io/en/stable/user_install.html\n",
      "  from .autonotebook import tqdm as notebook_tqdm\n"
     ]
    }
   ],
   "source": [
    "from langchain_chroma import Chroma\n",
    "from langchain_community.vectorstores import FAISS\n",
    "from langchain_openai import OpenAIEmbeddings\n",
    "from langchain_google_genai import GoogleGenerativeAIEmbeddings\n",
    "\n",
    "#embeddings = GoogleGenerativeAIEmbeddings(model = \"models/embedding-001\")\n",
    "embeddings = OpenAIEmbeddings(model='text-embedding-ada-002')\n",
    "# vectorstore = Chroma.from_documents(small_chunks,embedding=embeddings)\n",
    "# vectorstore.save_local()"
   ]
  },
  {
   "cell_type": "code",
   "execution_count": 2,
   "metadata": {},
   "outputs": [
    {
     "ename": "NameError",
     "evalue": "name 'FAISS' is not defined",
     "output_type": "error",
     "traceback": [
      "\u001b[1;31m---------------------------------------------------------------------------\u001b[0m",
      "\u001b[1;31mNameError\u001b[0m                                 Traceback (most recent call last)",
      "Cell \u001b[1;32mIn[2], line 1\u001b[0m\n\u001b[1;32m----> 1\u001b[0m vectorstore \u001b[38;5;241m=\u001b[39m \u001b[43mFAISS\u001b[49m\u001b[38;5;241m.\u001b[39mfrom_documents(documents\u001b[38;5;241m=\u001b[39mchunks,embedding\u001b[38;5;241m=\u001b[39membeddings)\n",
      "\u001b[1;31mNameError\u001b[0m: name 'FAISS' is not defined"
     ]
    }
   ],
   "source": [
    "vectorstore = FAISS.from_documents(documents=chunks,embedding=embeddings)"
   ]
  },
  {
   "cell_type": "code",
   "execution_count": 28,
   "metadata": {},
   "outputs": [],
   "source": [
    "vectorstore.save_local('vector_db')"
   ]
  },
  {
   "cell_type": "code",
   "execution_count": 3,
   "metadata": {},
   "outputs": [],
   "source": [
    "vectorstore = FAISS.load_local(\"vector_db_trans1\", embeddings ,allow_dangerous_deserialization=True)\n",
    "retriever = vectorstore.as_retriever(search_kwargs={\"k\":3})"
   ]
  },
  {
   "cell_type": "markdown",
   "metadata": {},
   "source": [
    "## HyDE"
   ]
  },
  {
   "cell_type": "code",
   "execution_count": 4,
   "metadata": {},
   "outputs": [
    {
     "data": {
      "text/plain": [
       "'Suffering is a complex and multifaceted phenomenon that can manifest in various forms, including physical, emotional, and psychological distress. In order to effectively release suffering, it is important to understand the underlying causes and mechanisms that contribute to its persistence. \\n\\nOne approach to releasing suffering is through the practice of mindfulness and meditation. Research has shown that mindfulness-based interventions can help individuals cultivate a greater sense of awareness and acceptance of their present moment experience, which can in turn reduce the intensity of suffering. By learning to observe and acknowledge their thoughts and emotions without judgment, individuals can develop a more compassionate and non-reactive relationship with their suffering, ultimately leading to its release.\\n\\nAnother effective strategy for releasing suffering is through the use of cognitive-behavioral therapy (CBT). CBT is a psychotherapeutic approach that focuses on identifying and challenging negative thought patterns and beliefs that contribute to suffering. By learning to reframe and restructure their thinking, individuals can develop more adaptive coping strategies and reduce the impact of their suffering.\\n\\nIn addition to these approaches, social support and connection with others can also play a crucial role in releasing suffering. Research has shown that having a strong support network can help individuals feel less isolated and more understood, which can in turn alleviate feelings of suffering. By reaching out to friends, family, or mental health professionals, individuals can receive the support and validation they need to navigate their suffering and ultimately release it.\\n\\nIn conclusion, releasing suffering is a complex and individualized process that may require a combination of approaches, including mindfulness, CBT, and social support. By addressing the underlying causes and mechanisms of suffering, individuals can cultivate greater resilience and well-being, ultimately leading to its release.'"
      ]
     },
     "execution_count": 4,
     "metadata": {},
     "output_type": "execute_result"
    }
   ],
   "source": [
    "from langchain.prompts import ChatPromptTemplate\n",
    "\n",
    "# HyDE document genration\n",
    "template = \"\"\"Please write a scientific paper passage to answer the question\n",
    "Question: {question}\n",
    "Passage:\"\"\"\n",
    "prompt_hyde = ChatPromptTemplate.from_template(template)\n",
    "\n",
    "from langchain_core.output_parsers import StrOutputParser\n",
    "from langchain_openai import ChatOpenAI\n",
    "\n",
    "generate_docs_for_retrieval = (\n",
    "    prompt_hyde | ChatOpenAI(model=\"gpt-3.5-turbo\", temperature=0) | StrOutputParser() \n",
    ")\n",
    "\n",
    "# Run\n",
    "question = \"How to release suffering?\"\n",
    "generate_docs_for_retrieval.invoke({\"question\":question})"
   ]
  },
  {
   "cell_type": "code",
   "execution_count": 5,
   "metadata": {},
   "outputs": [
    {
     "data": {
      "text/plain": [
       "[Document(page_content=\"that show up appr opriately to some matter. And as we think about what we're going to do \\nwith the matter either we accept it, do something, change it, our emotions and feelings will \\nchange with that. The suffering is when we get stuck in something and usually the stuckness \\nis because we're not going to take whatever it is and we'll say it shouldn't be this way and it's \\neither my fault because of my character or it's the world's fault because it just wasn't going to \\ngive it to me. And that piece of suffering is that stuckness  that we get create.  \\nThat's the one that we need to learn to let go to watch the belief system and thought process \\nthat is side by side with that and start doing reality check, opening it up, learning the skills of \\nbeing with what shows up, being with a n emotion and the feeling that shows up, seeing what \\nyou could do about it, do what you need to do and accept the rest and then there's that. That's \\nhow the suffering is alleviated.\", metadata={'source': './pdfs/ask me how do I let go of this type of suffering.pdf', 'page': 0, 'start_index': 1535}),\n",
       " Document(page_content=\"Well in the ask me segment you have asked me how do I let go of this type of suffering. \\nAlthough there are a lot of things that happen in my life that I didn't create. I didn't create the \\npandemic, I didn't create people dying, I didn't create, you know, l oss of my job. There's a lot \\nof stuff that happen and I suffer. And so when you say you want to eradicate uh emotional \\nsuffering how is that even possible?  \\nThings happen in our life that is beyond our control. It always happens, it will always happen. \\nThere's no one on the face of the Earth that you could say that is in control and in managing \\nevery single aspect. And there's a distinct difference between natural experience of emotions, \\nfeelings that we have about things that are happening but suffering is different. Suffering is \\nwhen we add certain type of a generalized belief, a negative belief to the matter about ourself \\nor the world. That's where suffering begins. It's not like an event happens, we feel the way we\", metadata={'source': './pdfs/ask me how do I let go of this type of suffering.pdf', 'page': 0, 'start_index': 0}),\n",
       " Document(page_content=\"when we add certain type of a generalized belief, a negative belief to the matter about ourself \\nor the world. That's where suffering begins. It's not like an event happens, we feel the way we \\nfeel, if it's uncomfortable of course  we're going to feel all the uncomfortable feelings and \\nwe're going to do something about it or we're going to accept it.  \\nAnd the feeling comes and goes based on the patterns of things that are happening in front of \\nus. If somebody passes away the natur al feeling is to go through grief, is to be sad, is to go \\nthrough the loss and then release and let go. If we lose a job, we're going to go through the \\nfeelings of loss and maybe anxiety, maybe sadness, maybe shame. Those are all emotions \\nthat show up appr opriately to some matter. And as we think about what we're going to do \\nwith the matter either we accept it, do something, change it, our emotions and feelings will\", metadata={'source': './pdfs/ask me how do I let go of this type of suffering.pdf', 'page': 0, 'start_index': 803})]"
      ]
     },
     "execution_count": 5,
     "metadata": {},
     "output_type": "execute_result"
    }
   ],
   "source": [
    "retrieval_chain = generate_docs_for_retrieval | retriever\n",
    "retireved_docs = retrieval_chain.invoke({\"question\":question})\n",
    "retireved_docs"
   ]
  },
  {
   "cell_type": "code",
   "execution_count": 6,
   "metadata": {},
   "outputs": [
    {
     "data": {
      "text/plain": [
       "'To release suffering, it is important to understand that suffering arises when we get stuck in a situation and resist accepting it as it is. Here are some steps to help release suffering:\\n\\n1. Acceptance: Acknowledge the situation for what it is without judgment or resistance. Understand that some things are beyond our control and it is okay to feel the emotions that come with it.\\n\\n2. Reality check: Challenge any negative beliefs or thoughts that are contributing to your suffering. Question the validity of these beliefs and try to see the situation from a different perspective.\\n\\n3. Embrace emotions: Allow yourself to feel the emotions that arise naturally in response to the situation. It is okay to feel sadness, grief, or any other emotion that comes up.\\n\\n4. Take action: Identify what aspects of the situation you can control or change, and take steps to address them. Focus on what you can do rather than getting stuck in what you cannot change.\\n\\n5. Let go: Practice letting go of the need to control everything and accept that some things are beyond your control. Release any attachment to specific outcomes and trust in the process of life.\\n\\nBy following these steps, you can start to alleviate the suffering that comes from getting stuck in negative beliefs and resistance to accepting reality.'"
      ]
     },
     "execution_count": 6,
     "metadata": {},
     "output_type": "execute_result"
    }
   ],
   "source": [
    "# RAG RAAG\n",
    "template = \"\"\"You are an empathetic psychotherapist, parenting counselor, life-coach and mental health expert. \n",
    "Be empathetic while answering if the question includes some bad situation. \n",
    "Answer the following question based on the context given below, explain each point in a simple language.\n",
    "Don't look for the answers from other resources. If you don't find the answer from the context, just simply answer: \n",
    "\"I don't know\" or \"I didn't understand this, could you please provide some more information on it\".\n",
    "\n",
    "Context: {context}\n",
    "\n",
    "Question: {question}\n",
    "\"\"\"\n",
    "\n",
    "prompt = ChatPromptTemplate.from_template(template)\n",
    "\n",
    "final_rag_chain = (\n",
    "    prompt\n",
    "    | ChatOpenAI(model=\"gpt-3.5-turbo\",temperature=0)\n",
    "    | StrOutputParser()\n",
    ")\n",
    "\n",
    "final_rag_chain.invoke({\"context\":retireved_docs,\"question\":question})"
   ]
  },
  {
   "cell_type": "markdown",
   "metadata": {},
   "source": [
    "## Decomposition"
   ]
  },
  {
   "cell_type": "code",
   "execution_count": 21,
   "metadata": {},
   "outputs": [],
   "source": [
    "question = \"How to release suffering?\""
   ]
  },
  {
   "cell_type": "code",
   "execution_count": 22,
   "metadata": {},
   "outputs": [],
   "source": [
    "from langchain.prompts import ChatPromptTemplate\n",
    "\n",
    "# Decomposition\n",
    "template = \"\"\"You are a helpful assistant that generates multiple sub-questions related to an input question. \\n\n",
    "The goal is to break down the input into a set of sub-problems / sub-questions that can be answers in isolation. \\n\n",
    "Generate multiple search queries related to: {question} \\n\n",
    "Output (3 queries):\"\"\"\n",
    "prompt_decomposition = ChatPromptTemplate.from_template(template)"
   ]
  },
  {
   "cell_type": "code",
   "execution_count": 23,
   "metadata": {},
   "outputs": [],
   "source": [
    "from langchain_openai import ChatOpenAI\n",
    "from langchain_core.output_parsers import StrOutputParser\n",
    "\n",
    "# LLM\n",
    "llm = ChatOpenAI(model=\"gpt-3.5-turbo\",temperature=0)\n",
    "\n",
    "# Chain\n",
    "generate_queries_decomposition = ( prompt_decomposition | llm | StrOutputParser() | (lambda x: x.split(\"\\n\")))\n",
    "\n",
    "questions = generate_queries_decomposition.invoke({\"question\":question})"
   ]
  },
  {
   "cell_type": "code",
   "execution_count": 24,
   "metadata": {},
   "outputs": [
    {
     "data": {
      "text/plain": [
       "['1. What are effective techniques for managing emotional pain?',\n",
       " '2. How can mindfulness practices help alleviate suffering?',\n",
       " '3. Are there specific therapy approaches that focus on releasing suffering?']"
      ]
     },
     "execution_count": 24,
     "metadata": {},
     "output_type": "execute_result"
    }
   ],
   "source": [
    "questions"
   ]
  },
  {
   "cell_type": "code",
   "execution_count": 25,
   "metadata": {},
   "outputs": [],
   "source": [
    "# Answer each sub-question individually \n",
    "\n",
    "from langchain import hub\n",
    "from langchain_core.prompts import ChatPromptTemplate\n",
    "from langchain_core.runnables import RunnablePassthrough, RunnableLambda\n",
    "from langchain_core.output_parsers import StrOutputParser\n",
    "from langchain_openai import ChatOpenAI\n",
    "\n",
    "# RAG prompt\n",
    "template = \"\"\"You are an empathetic psychotherapist, parenting counselor, life-coach and mental health expert. \n",
    "Be empathetic while answering if the question includes some bad situation. \n",
    "Answer the following question based on the context given below, explain each point in a simple language.\n",
    "Don't look for the answers from other resources. If you don't find the answer from the context, just simply answer: \n",
    "\"I don't know\" or \"I didn't understand this, could you please provide some more information on it\".\n",
    "\n",
    "Context: {context}\n",
    "\n",
    "Question: {question}\n",
    "\"\"\"\n",
    "\n",
    "prompt_rag = ChatPromptTemplate.from_template(template)\n",
    "# prompt_rag = hub.pull(\"rlm/rag-prompt\")\n",
    "\n",
    "def retrieve_and_rag(question,prompt_rag,sub_question_generator_chain):\n",
    "    \"\"\"RAG on each sub-question\"\"\"\n",
    "    \n",
    "    # Use our decomposition \n",
    "    sub_questions = sub_question_generator_chain.invoke({\"question\":question})\n",
    "    \n",
    "    # Initialize a list to hold RAG chain results\n",
    "    rag_results = []\n",
    "    \n",
    "    for sub_question in sub_questions:\n",
    "        \n",
    "        # Retrieve documents for each sub-question\n",
    "        retrieved_docs = retriever.get_relevant_documents(sub_question)\n",
    "        \n",
    "        # Use retrieved documents and sub-question in RAG chain\n",
    "        answer = (prompt_rag | llm | StrOutputParser()).invoke({\"context\": retrieved_docs, \n",
    "                                                                \"question\": sub_question})\n",
    "        rag_results.append(answer)\n",
    "    \n",
    "    return rag_results,sub_questions\n",
    "\n",
    "# Wrap the retrieval and RAG process in a RunnableLambda for integration into a chain\n",
    "answers, questions = retrieve_and_rag(question, prompt_rag, generate_queries_decomposition)"
   ]
  },
  {
   "cell_type": "code",
   "execution_count": 26,
   "metadata": {},
   "outputs": [
    {
     "data": {
      "text/plain": [
       "'To release suffering, individuals can utilize effective techniques such as gradually and carefully exploring their painful negative core beliefs and accompanying feelings, accepting their emotions, identifying the source of the original pain, and releasing these emotions from their bodies. Mindfulness practices can also be beneficial in alleviating suffering by increasing awareness, changing perspective, promoting acceptance and action, and providing a reality check. Therapies or treatments that target the root causes of suffering, such as guiding clients through their painful beliefs and emotions, can also help individuals release suffering and promote healing. By combining these approaches, individuals can work towards releasing suffering and finding relief from emotional pain.'"
      ]
     },
     "execution_count": 26,
     "metadata": {},
     "output_type": "execute_result"
    }
   ],
   "source": [
    "def format_qa_pairs(questions, answers):\n",
    "    \"\"\"Format Q and A pairs\"\"\"\n",
    "    \n",
    "    formatted_string = \"\"\n",
    "    for i, (question, answer) in enumerate(zip(questions, answers), start=1):\n",
    "        formatted_string += f\"Question {i}: {question}\\nAnswer {i}: {answer}\\n\\n\"\n",
    "    return formatted_string.strip()\n",
    "\n",
    "context = format_qa_pairs(questions, answers)\n",
    "\n",
    "# Prompt\n",
    "template = \"\"\"\n",
    "\n",
    "Here is a set of Q+A pairs:\n",
    "\n",
    "{context}\n",
    "\n",
    "Use these to synthesize an answer to the question: {question}\n",
    "\"\"\"\n",
    "\n",
    "prompt = ChatPromptTemplate.from_template(template)\n",
    "\n",
    "final_rag_chain = (\n",
    "    prompt\n",
    "    | llm\n",
    "    | StrOutputParser()\n",
    ")\n",
    "\n",
    "final_rag_chain.invoke({\"context\":context,\"question\":question})"
   ]
  },
  {
   "cell_type": "code",
   "execution_count": null,
   "metadata": {},
   "outputs": [],
   "source": []
  }
 ],
 "metadata": {
  "kernelspec": {
   "display_name": "Python 3",
   "language": "python",
   "name": "python3"
  },
  "language_info": {
   "codemirror_mode": {
    "name": "ipython",
    "version": 3
   },
   "file_extension": ".py",
   "mimetype": "text/x-python",
   "name": "python",
   "nbconvert_exporter": "python",
   "pygments_lexer": "ipython3",
   "version": "3.10.0"
  }
 },
 "nbformat": 4,
 "nbformat_minor": 2
}
