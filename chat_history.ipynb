{
 "cells": [
  {
   "cell_type": "code",
   "execution_count": 7,
   "metadata": {},
   "outputs": [],
   "source": [
    "import os\n",
    "from dotenv import load_dotenv\n",
    "load_dotenv()\n",
    "\n",
    "os.environ['LANGCHAIN_TRACING_V2'] = 'true'\n",
    "os.environ['LANGCHAIN_ENDPOINT'] = 'https://api.smith.langchain.com'"
   ]
  },
  {
   "cell_type": "code",
   "execution_count": 8,
   "metadata": {},
   "outputs": [],
   "source": [
    "os.environ[\"LANGCHAIN_PROJECT\"]= \"MIRA-convo-local-dev\"\n",
    "os.environ[\"OPENAI_API_KEY\"] = os.getenv('OPENAI_API_KEY')\n",
    "os.environ[\"GOOGLE_API_KEY\"] = os.getenv('GOOGLE_API_KEY')\n",
    "os.environ[\"LANGCHAIN_API_KEY\"] = os.getenv('LANGCHAIN_API_KEY')"
   ]
  },
  {
   "cell_type": "code",
   "execution_count": 9,
   "metadata": {},
   "outputs": [],
   "source": [
    "MONGODB_ATLAS_CLUSTER_URI = os.getenv('MONGODB_ATLAS_CLUSTER_URI')\n",
    "DB_NAME = os.getenv('DB_NAME')\n",
    "COLLECTION_NAME = os.getenv('COLLECTION_NAME')\n",
    "ATLAS_VECTOR_SEARCH_INDEX_NAME = os.getenv('ATLAS_VECTOR_SEARCH_INDEX_NAME')"
   ]
  },
  {
   "cell_type": "code",
   "execution_count": 10,
   "metadata": {},
   "outputs": [],
   "source": [
    "from langchain_openai import OpenAIEmbeddings\n",
    "from langchain_mongodb.vectorstores import MongoDBAtlasVectorSearch\n",
    "\n",
    "vector_search = MongoDBAtlasVectorSearch.from_connection_string(\n",
    "        MONGODB_ATLAS_CLUSTER_URI,\n",
    "        f\"{DB_NAME}.{COLLECTION_NAME}\",\n",
    "        OpenAIEmbeddings(),\n",
    "        index_name= ATLAS_VECTOR_SEARCH_INDEX_NAME\n",
    "    )"
   ]
  },
  {
   "cell_type": "code",
   "execution_count": 11,
   "metadata": {},
   "outputs": [],
   "source": [
    "from langchain_openai import ChatOpenAI\n",
    "llm = ChatOpenAI(model=\"gpt-3.5-turbo\", temperature=0)\n",
    "#retriever = vector_search.as_retriever(search_kwargs={\"k\":5})"
   ]
  },
  {
   "cell_type": "code",
   "execution_count": 12,
   "metadata": {},
   "outputs": [],
   "source": [
    "from langchain.chains import create_history_aware_retriever\n",
    "from langchain_core.prompts import ChatPromptTemplate, MessagesPlaceholder\n",
    "from langchain_core.output_parsers import StrOutputParser\n",
    "\n",
    "contextualize_q_system_prompt = \"\"\"Given a chat history and the latest user question \\\n",
    "which might reference context in the chat history, formulate a standalone question \\\n",
    "which can be understood without the chat history. Do NOT answer the question, \\\n",
    "just reformulate it if needed and otherwise return it as is.\"\"\"\n",
    "contextualize_q_prompt = ChatPromptTemplate.from_messages(\n",
    "    [\n",
    "        (\"system\", contextualize_q_system_prompt),\n",
    "        MessagesPlaceholder(\"chat_history\"),\n",
    "        (\"human\", \"{input}\"),\n",
    "    ]\n",
    ")\n",
    "# history_aware_retriever = create_history_aware_retriever(\n",
    "#     llm, retriever, contextualize_q_prompt\n",
    "# )"
   ]
  },
  {
   "cell_type": "code",
   "execution_count": 14,
   "metadata": {},
   "outputs": [],
   "source": [
    "chain_history = (\n",
    "    contextualize_q_prompt | ChatOpenAI(model=\"gpt-3.5-turbo\", temperature=0) | StrOutputParser() \n",
    ")\n",
    "\n",
    "# Run\n",
    "question=\"I am losing interest in my girlfriend\"\n",
    "# chain_history.invoke({\"input\":question})"
   ]
  },
  {
   "cell_type": "code",
   "execution_count": 15,
   "metadata": {},
   "outputs": [],
   "source": [
    "from langchain.prompts import ChatPromptTemplate\n",
    "\n",
    "# HyDE document genration\n",
    "template = \"\"\"Please write a scientific paper passage to answer the question\n",
    "Question: {question}\n",
    "Passage:\"\"\"\n",
    "prompt_hyde = ChatPromptTemplate.from_template(template)\n",
    "\n",
    "from langchain_core.output_parsers import StrOutputParser\n",
    "from langchain_openai import ChatOpenAI\n",
    "\n",
    "generate_docs_for_retrieval = (\n",
    "    chain_history | prompt_hyde | ChatOpenAI(model=\"gpt-3.5-turbo\", temperature=0) | StrOutputParser() \n",
    ")\n",
    "\n"
   ]
  },
  {
   "cell_type": "code",
   "execution_count": 21,
   "metadata": {},
   "outputs": [],
   "source": [
    "retrieval_chain = generate_docs_for_retrieval | vector_search.as_retriever(search_kwargs={\"k\":6})"
   ]
  },
  {
   "cell_type": "code",
   "execution_count": 26,
   "metadata": {},
   "outputs": [],
   "source": [
    "from langchain.chains import create_retrieval_chain\n",
    "from langchain.chains.combine_documents import create_stuff_documents_chain\n",
    "\n",
    "qa_system_prompt = \"\"\"Your name is MIRA, you are an empathetic psychotherapist, parenting counselor, life-coach and mental health expert. \n",
    "You need to provide the solution to the user's query.\n",
    "Following are the instructions how you need to answer the Question:\n",
    " \n",
    "1. Don't look for the answers from other resources. If you don't find the answer from the context, just simply answer: \n",
    "\"I don't know\" or \"I didn't understand this, could you please provide some more information on it\".\n",
    "\n",
    "2. For a positive question, acknowledge the positivity and then give the answer. For example: \n",
    "    (a) it is so nice to see that you are in a place in life that you want to _____.\n",
    "    (b) It is great to see that you are moving to the next phase of your life.\n",
    "    (c) it is wonderful to know you're ready to excel in different areas of your life.\n",
    "\n",
    "3. If it's a negative or painful question then empathize with the person that you know and you understand their pain or what they're going through \n",
    "and then give the answer. For example: We know that it must be very difficult to deal with ____.\n",
    "\n",
    "Context: {context}\n",
    "\n",
    "\n",
    "\"\"\"\n",
    "\n",
    "human_template = \"\"\"\n",
    "Answer the given question based on the context given below and keeping the instruction in mind, explain each point in a simple language.\n",
    "\n",
    "\n",
    "Question: {input}\n",
    "\"\"\"\n",
    "qa_prompt = ChatPromptTemplate.from_messages(\n",
    "    [\n",
    "        (\"system\", qa_system_prompt),\n",
    "        MessagesPlaceholder(\"chat_history\"),\n",
    "        (\"human\", human_template),\n",
    "    ]\n",
    ")\n",
    "\n",
    "\n",
    "question_answer_chain = create_stuff_documents_chain(llm, qa_prompt)\n",
    "\n",
    "rag_chain = create_retrieval_chain(retrieval_chain, question_answer_chain)"
   ]
  },
  {
   "cell_type": "code",
   "execution_count": 27,
   "metadata": {},
   "outputs": [
    {
     "name": "stdout",
     "output_type": "stream",
     "text": [
      "I understand that it can be challenging when you start losing interest in your girlfriend. It's important to reflect on why you might be feeling this way and communicate openly with your girlfriend about your feelings. Here are some steps you can take to address this issue:\n",
      "\n",
      "1. **Reflect on Your Feelings**: Take some time to understand why you are losing interest. Is it due to personal issues, changes in the relationship, or other factors?\n",
      "\n",
      "2. **Open Communication**: Have an honest conversation with your girlfriend about how you are feeling. It's important to express your thoughts and listen to her perspective as well.\n",
      "\n",
      "3. **Reignite the Spark**: Try to engage in activities that you both enjoy together to reignite the spark in your relationship. Plan dates, try new things, and spend quality time together.\n",
      "\n",
      "4. **Seek Professional Help**: If you find it difficult to navigate your feelings or the relationship dynamics, consider seeking the help of a therapist or counselor to work through these issues.\n",
      "\n",
      "5. **Evaluate the Relationship**: Assess whether the relationship aligns with your values, goals, and intentions. It's essential to be honest with yourself about what you want in a relationship.\n",
      "\n",
      "Remember, relationships require effort from both partners, and it's okay to reassess your feelings and take steps to address any challenges you may be facing.\n"
     ]
    }
   ],
   "source": [
    "from langchain_core.messages import HumanMessage\n",
    "\n",
    "chat_history = []\n",
    "\n",
    "#question = \"What is bipolar disorder?\"\n",
    "ai_msg_1 = rag_chain.invoke({\"input\": question, \"chat_history\": chat_history})\n",
    "chat_history.extend([HumanMessage(content=question), ai_msg_1[\"answer\"]])\n",
    "\n",
    "\n",
    "print(ai_msg_1[\"answer\"])"
   ]
  },
  {
   "cell_type": "code",
   "execution_count": 28,
   "metadata": {},
   "outputs": [
    {
     "name": "stdout",
     "output_type": "stream",
     "text": [
      "It's great that you're looking for ways to address the situation you're facing. Here are some simple steps you can take to come out of feeling disinterested in your girlfriend:\n",
      "\n",
      "1. **Reflect on Your Feelings**: Take some time to think about why you're losing interest. Is it because of something happening in your life or changes in the relationship?\n",
      "\n",
      "2. **Open Communication**: Talk openly with your girlfriend about how you're feeling. It's important to share your thoughts and listen to her perspective too.\n",
      "\n",
      "3. **Reignite the Spark**: Do things together that you both enjoy to bring back the excitement. Plan fun activities, go on dates, and spend quality time together.\n",
      "\n",
      "4. **Seek Professional Help**: If you're finding it hard to understand your feelings or the relationship, consider talking to a therapist or counselor for guidance.\n",
      "\n",
      "5. **Evaluate the Relationship**: Think about whether the relationship matches your values and goals. Be honest with yourself about what you want in a relationship.\n",
      "\n",
      "Remember, relationships need effort from both sides, and it's okay to reassess your feelings and work on any challenges you're facing.\n"
     ]
    }
   ],
   "source": [
    "question2 = \"What are the possible ways so that I can come out of this?\"\n",
    "ai_msg_2 = rag_chain.invoke({\"input\": question2, \"chat_history\": chat_history})\n",
    "chat_history.extend([HumanMessage(content=question2), ai_msg_2[\"answer\"]])\n",
    "\n",
    "\n",
    "print(ai_msg_2[\"answer\"])"
   ]
  },
  {
   "cell_type": "code",
   "execution_count": null,
   "metadata": {},
   "outputs": [],
   "source": []
  }
 ],
 "metadata": {
  "kernelspec": {
   "display_name": "Python 3",
   "language": "python",
   "name": "python3"
  },
  "language_info": {
   "codemirror_mode": {
    "name": "ipython",
    "version": 3
   },
   "file_extension": ".py",
   "mimetype": "text/x-python",
   "name": "python",
   "nbconvert_exporter": "python",
   "pygments_lexer": "ipython3",
   "version": "3.10.0"
  }
 },
 "nbformat": 4,
 "nbformat_minor": 2
}
