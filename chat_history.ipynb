{
 "cells": [
  {
   "cell_type": "code",
   "execution_count": 1,
   "metadata": {},
   "outputs": [],
   "source": [
    "import os\n",
    "from dotenv import load_dotenv\n",
    "load_dotenv()\n",
    "\n",
    "os.environ['LANGCHAIN_TRACING_V2'] = 'true'\n",
    "os.environ['LANGCHAIN_ENDPOINT'] = 'https://api.smith.langchain.com'"
   ]
  },
  {
   "cell_type": "code",
   "execution_count": 2,
   "metadata": {},
   "outputs": [],
   "source": [
    "os.environ[\"LANGCHAIN_PROJECT\"]= \"MIRA-local-dev\"\n",
    "os.environ[\"OPENAI_API_KEY\"] = os.getenv('OPENAI_API_KEY')\n",
    "os.environ[\"GOOGLE_API_KEY\"] = os.getenv('GOOGLE_API_KEY')\n",
    "os.environ[\"LANGCHAIN_API_KEY\"] = os.getenv('LANGCHAIN_API_KEY')"
   ]
  },
  {
   "cell_type": "code",
   "execution_count": 3,
   "metadata": {},
   "outputs": [],
   "source": [
    "MONGODB_ATLAS_CLUSTER_URI = os.getenv('MONGODB_ATLAS_CLUSTER_URI')\n",
    "DB_NAME = os.getenv('DB_NAME')\n",
    "COLLECTION_NAME = os.getenv('COLLECTION_NAME')\n",
    "ATLAS_VECTOR_SEARCH_INDEX_NAME = os.getenv('ATLAS_VECTOR_SEARCH_INDEX_NAME')"
   ]
  },
  {
   "cell_type": "code",
   "execution_count": 4,
   "metadata": {},
   "outputs": [],
   "source": [
    "from langchain_openai import OpenAIEmbeddings\n",
    "from langchain_mongodb.vectorstores import MongoDBAtlasVectorSearch\n",
    "\n",
    "vector_search = MongoDBAtlasVectorSearch.from_connection_string(\n",
    "        MONGODB_ATLAS_CLUSTER_URI,\n",
    "        f\"{DB_NAME}.{COLLECTION_NAME}\",\n",
    "        OpenAIEmbeddings(),\n",
    "        index_name= ATLAS_VECTOR_SEARCH_INDEX_NAME\n",
    "    )"
   ]
  },
  {
   "cell_type": "code",
   "execution_count": 5,
   "metadata": {},
   "outputs": [],
   "source": [
    "from langchain_openai import ChatOpenAI\n",
    "llm = ChatOpenAI(model=\"gpt-3.5-turbo\", temperature=0)\n",
    "retriever = vector_search.as_retriever(search_kwargs={\"k\":5})"
   ]
  },
  {
   "cell_type": "code",
   "execution_count": 6,
   "metadata": {},
   "outputs": [],
   "source": [
    "from langchain.chains import create_history_aware_retriever\n",
    "from langchain_core.prompts import ChatPromptTemplate, MessagesPlaceholder\n",
    "\n",
    "contextualize_q_system_prompt = \"\"\"Given a chat history and the latest user question \\\n",
    "which might reference context in the chat history, formulate a standalone question \\\n",
    "which can be understood without the chat history. Do NOT answer the question, \\\n",
    "just reformulate it if needed and otherwise return it as is.\"\"\"\n",
    "contextualize_q_prompt = ChatPromptTemplate.from_messages(\n",
    "    [\n",
    "        (\"system\", contextualize_q_system_prompt),\n",
    "        MessagesPlaceholder(\"chat_history\"),\n",
    "        (\"human\", \"{input}\"),\n",
    "    ]\n",
    ")\n",
    "history_aware_retriever = create_history_aware_retriever(\n",
    "    llm, retriever, contextualize_q_prompt\n",
    ")"
   ]
  },
  {
   "cell_type": "code",
   "execution_count": 7,
   "metadata": {},
   "outputs": [],
   "source": [
    "from langchain.chains import create_retrieval_chain\n",
    "from langchain.chains.combine_documents import create_stuff_documents_chain\n",
    "\n",
    "qa_system_prompt = \"\"\"You are an assistant for question-answering tasks. \\\n",
    "Use the following pieces of retrieved context to answer the question. \\\n",
    "If you don't know the answer, just say that you don't know. \\\n",
    "Use three sentences maximum and keep the answer concise.\\\n",
    "\n",
    "{context}\"\"\"\n",
    "qa_prompt = ChatPromptTemplate.from_messages(\n",
    "    [\n",
    "        (\"system\", qa_system_prompt),\n",
    "        MessagesPlaceholder(\"chat_history\"),\n",
    "        (\"human\", \"{input}\"),\n",
    "    ]\n",
    ")\n",
    "\n",
    "\n",
    "question_answer_chain = create_stuff_documents_chain(llm, qa_prompt)\n",
    "\n",
    "rag_chain = create_retrieval_chain(history_aware_retriever, question_answer_chain)"
   ]
  },
  {
   "cell_type": "code",
   "execution_count": 10,
   "metadata": {},
   "outputs": [
    {
     "name": "stdout",
     "output_type": "stream",
     "text": [
      "Bipolar disorder is a mental illness characterized by dramatic shifts in mood, considered a mood disorder. People with bipolar disorder experience high and low moods known as mania or hypomania and depression. It affects about 2.8% of the U.S. population, with various types such as Bipolar I, Bipolar II, cyclothymia, and unspecified bipolar disorder.\n"
     ]
    }
   ],
   "source": [
    "from langchain_core.messages import HumanMessage\n",
    "\n",
    "chat_history = []\n",
    "\n",
    "question = \"What is bipolar disorder?\"\n",
    "ai_msg_1 = rag_chain.invoke({\"input\": question, \"chat_history\": chat_history})\n",
    "chat_history.extend([HumanMessage(content=question), ai_msg_1[\"answer\"]])\n",
    "\n",
    "\n",
    "print(ai_msg_1[\"answer\"])"
   ]
  },
  {
   "cell_type": "code",
   "execution_count": 11,
   "metadata": {},
   "outputs": [
    {
     "data": {
      "text/plain": [
       "[HumanMessage(content='What is bipolar disorder?'),\n",
       " 'Bipolar disorder is a mental illness characterized by dramatic shifts in mood, considered a mood disorder. People with bipolar disorder experience high and low moods known as mania or hypomania and depression. It affects about 2.8% of the U.S. population, with various types such as Bipolar I, Bipolar II, cyclothymia, and unspecified bipolar disorder.']"
      ]
     },
     "execution_count": 11,
     "metadata": {},
     "output_type": "execute_result"
    }
   ],
   "source": [
    "chat_history"
   ]
  },
  {
   "cell_type": "code",
   "execution_count": 12,
   "metadata": {},
   "outputs": [],
   "source": [
    "second_question = \"how to overcome this?\"\n",
    "ai_msg_2 = rag_chain.invoke({\"input\": second_question, \"chat_history\": chat_history})"
   ]
  },
  {
   "cell_type": "code",
   "execution_count": 14,
   "metadata": {},
   "outputs": [
    {
     "name": "stdout",
     "output_type": "stream",
     "text": [
      "Treatment for bipolar disorder typically involves a combination of medication like mood stabilizers and psychotherapy. Stress management strategies, early symptom recognition, and maintaining a healthy lifestyle with proper nutrition, exercise, and sleep patterns are also important. Complementary approaches such as meditation and spirituality can help regulate mood and manage symptoms effectively.\n"
     ]
    }
   ],
   "source": [
    "print(ai_msg_2[\"answer\"])"
   ]
  },
  {
   "cell_type": "code",
   "execution_count": 16,
   "metadata": {},
   "outputs": [],
   "source": [
    "chat_history.extend([HumanMessage(content=second_question), ai_msg_2[\"answer\"]])"
   ]
  },
  {
   "cell_type": "code",
   "execution_count": 17,
   "metadata": {},
   "outputs": [
    {
     "data": {
      "text/plain": [
       "[HumanMessage(content='What is bipolar disorder?'),\n",
       " 'Bipolar disorder is a mental illness characterized by dramatic shifts in mood, considered a mood disorder. People with bipolar disorder experience high and low moods known as mania or hypomania and depression. It affects about 2.8% of the U.S. population, with various types such as Bipolar I, Bipolar II, cyclothymia, and unspecified bipolar disorder.',\n",
       " HumanMessage(content='how to overcome this?'),\n",
       " 'Treatment for bipolar disorder typically involves a combination of medication like mood stabilizers and psychotherapy. Stress management strategies, early symptom recognition, and maintaining a healthy lifestyle with proper nutrition, exercise, and sleep patterns are also important. Complementary approaches such as meditation and spirituality can help regulate mood and manage symptoms effectively.']"
      ]
     },
     "execution_count": 17,
     "metadata": {},
     "output_type": "execute_result"
    }
   ],
   "source": [
    "chat_history"
   ]
  },
  {
   "cell_type": "code",
   "execution_count": 18,
   "metadata": {},
   "outputs": [
    {
     "name": "stdout",
     "output_type": "stream",
     "text": [
      "In addition to medication and psychotherapy, stress management techniques like exercise, meditation, and maintaining a regular schedule can be beneficial for managing bipolar disorder. Complementary health approaches such as spirituality and appropriate nutrition can also support mood regulation. Early identification of symptoms and seeking help from mental health professionals are crucial steps in effectively managing the condition.\n"
     ]
    }
   ],
   "source": [
    "third_question = \"provide some more solutions\"\n",
    "ai_msg_3 = rag_chain.invoke({\"input\": third_question, \"chat_history\": chat_history})\n",
    "print(ai_msg_3[\"answer\"])"
   ]
  },
  {
   "cell_type": "code",
   "execution_count": 21,
   "metadata": {},
   "outputs": [
    {
     "data": {
      "text/plain": [
       "[HumanMessage(content='What is bipolar disorder?'),\n",
       " 'Bipolar disorder is a mental illness characterized by dramatic shifts in mood, considered a mood disorder. People with bipolar disorder experience high and low moods known as mania or hypomania and depression. It affects about 2.8% of the U.S. population, with various types such as Bipolar I, Bipolar II, cyclothymia, and unspecified bipolar disorder.',\n",
       " HumanMessage(content='how to overcome this?'),\n",
       " 'Treatment for bipolar disorder typically involves a combination of medication like mood stabilizers and psychotherapy. Stress management strategies, early symptom recognition, and maintaining a healthy lifestyle with proper nutrition, exercise, and sleep patterns are also important. Complementary approaches such as meditation and spirituality can help regulate mood and manage symptoms effectively.',\n",
       " HumanMessage(content='how to overcome this?')]"
      ]
     },
     "execution_count": 21,
     "metadata": {},
     "output_type": "execute_result"
    }
   ],
   "source": [
    "chat_history"
   ]
  },
  {
   "cell_type": "code",
   "execution_count": 22,
   "metadata": {},
   "outputs": [],
   "source": [
    "chat_history.extend([HumanMessage(content=third_question), ai_msg_3[\"answer\"]])"
   ]
  },
  {
   "cell_type": "code",
   "execution_count": 25,
   "metadata": {},
   "outputs": [
    {
     "data": {
      "text/plain": [
       "[HumanMessage(content='What is bipolar disorder?'),\n",
       " 'Bipolar disorder is a mental illness characterized by dramatic shifts in mood, considered a mood disorder. People with bipolar disorder experience high and low moods known as mania or hypomania and depression. It affects about 2.8% of the U.S. population, with various types such as Bipolar I, Bipolar II, cyclothymia, and unspecified bipolar disorder.',\n",
       " HumanMessage(content='how to overcome this?'),\n",
       " 'Treatment for bipolar disorder typically involves a combination of medication like mood stabilizers and psychotherapy. Stress management strategies, early symptom recognition, and maintaining a healthy lifestyle with proper nutrition, exercise, and sleep patterns are also important. Complementary approaches such as meditation and spirituality can help regulate mood and manage symptoms effectively.',\n",
       " HumanMessage(content='provide some more solutions'),\n",
       " 'In addition to medication and psychotherapy, stress management techniques like exercise, meditation, and maintaining a regular schedule can be beneficial for managing bipolar disorder. Complementary health approaches such as spirituality and appropriate nutrition can also support mood regulation. Early identification of symptoms and seeking help from mental health professionals are crucial steps in effectively managing the condition.']"
      ]
     },
     "execution_count": 25,
     "metadata": {},
     "output_type": "execute_result"
    }
   ],
   "source": [
    "chat_history"
   ]
  }
 ],
 "metadata": {
  "kernelspec": {
   "display_name": "Python 3",
   "language": "python",
   "name": "python3"
  },
  "language_info": {
   "codemirror_mode": {
    "name": "ipython",
    "version": 3
   },
   "file_extension": ".py",
   "mimetype": "text/x-python",
   "name": "python",
   "nbconvert_exporter": "python",
   "pygments_lexer": "ipython3",
   "version": "3.10.0"
  }
 },
 "nbformat": 4,
 "nbformat_minor": 2
}
