{
 "cells": [
  {
   "cell_type": "code",
   "execution_count": 1,
   "metadata": {},
   "outputs": [],
   "source": [
    "from langchain.prompts import PromptTemplate\n",
    "from langchain.prompts.chat import (\n",
    "    ChatPromptTemplate,\n",
    "    HumanMessagePromptTemplate,\n",
    "    SystemMessagePromptTemplate,\n",
    ")"
   ]
  },
  {
   "cell_type": "code",
   "execution_count": 6,
   "metadata": {},
   "outputs": [],
   "source": [
    "\n",
    "system_template = \"\"\"You are an empathetic psychotherapist, parenting counselor, life-coach and mental health expert. \n",
    "You need to provide the solution to the user's query.\n",
    "This is how you need to answer the question:\n",
    " \n",
    "1. Don't look for the answers from other resources. If you don't find the answer from the context, just simply answer: \n",
    "\"I don't know\" or \"I didn't understand this, could you please provide some more information on it\".\n",
    "\n",
    "2. Show expathy and give acknowledgement in the answer as per the question.\"\"\"\n",
    "\n",
    "human_template = \"\"\"\n",
    "Answer the given question based on the context given below and keeping the instruction in mind, explain each point in a simple language.\n",
    "\n",
    "\n",
    "Context: {context}\n",
    "\n",
    "Question: {question}\n",
    "\"\"\"\n",
    "messages = [\n",
    "    SystemMessagePromptTemplate.from_template(system_template),\n",
    "    HumanMessagePromptTemplate.from_template(human_template),\n",
    "]\n",
    "CHAT_PROMPT = ChatPromptTemplate.from_messages(messages)"
   ]
  },
  {
   "cell_type": "code",
   "execution_count": 7,
   "metadata": {},
   "outputs": [
    {
     "name": "stdout",
     "output_type": "stream",
     "text": [
      "input_variables=['context', 'question'] messages=[SystemMessagePromptTemplate(prompt=PromptTemplate(input_variables=[], template='You are an empathetic psychotherapist, parenting counselor, life-coach and mental health expert. \\nYou need to provide the solution to the user\\'s query.\\nThis is how you need to answer the question:\\n \\n1. Don\\'t look for the answers from other resources. If you don\\'t find the answer from the context, just simply answer: \\n\"I don\\'t know\" or \"I didn\\'t understand this, could you please provide some more information on it\".\\n\\n2. Show expathy and give acknowledgement in the answer as per the question.')), HumanMessagePromptTemplate(prompt=PromptTemplate(input_variables=['context', 'question'], template='\\nAnswer the given question based on the context given below and keeping the instruction in mind, explain each point in a simple language.\\n\\n\\nContext: {context}\\n\\nQuestion: {question}\\n'))]\n"
     ]
    }
   ],
   "source": [
    "print(CHAT_PROMPT)"
   ]
  },
  {
   "cell_type": "code",
   "execution_count": null,
   "metadata": {},
   "outputs": [],
   "source": []
  }
 ],
 "metadata": {
  "kernelspec": {
   "display_name": "Python 3",
   "language": "python",
   "name": "python3"
  },
  "language_info": {
   "codemirror_mode": {
    "name": "ipython",
    "version": 3
   },
   "file_extension": ".py",
   "mimetype": "text/x-python",
   "name": "python",
   "nbconvert_exporter": "python",
   "pygments_lexer": "ipython3",
   "version": "3.10.0"
  }
 },
 "nbformat": 4,
 "nbformat_minor": 2
}
